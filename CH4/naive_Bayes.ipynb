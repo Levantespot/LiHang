{
 "cells": [
  {
   "cell_type": "code",
   "execution_count": 1,
   "metadata": {
    "tags": []
   },
   "outputs": [],
   "source": [
    "import numpy as np\n",
    "import pandas as pd\n",
    "import matplotlib\n",
    "import matplotlib.pyplot as plt\n",
    "# notebook will reload external python modules\n",
    "%load_ext autoreload\n",
    "%autoreload 2"
   ]
  },
  {
   "cell_type": "code",
   "execution_count": 2,
   "metadata": {},
   "outputs": [
    {
     "output_type": "execute_result",
     "data": {
      "text/plain": "              age         sex          cp    trestbps        chol         fbs  \\\ncount  297.000000  297.000000  297.000000  297.000000  297.000000  297.000000   \nmean    54.542088    0.676768    3.158249  131.693603  247.350168    0.144781   \nstd      9.049736    0.468500    0.964859   17.762806   51.997583    0.352474   \nmin     29.000000    0.000000    1.000000   94.000000  126.000000    0.000000   \n25%     48.000000    0.000000    3.000000  120.000000  211.000000    0.000000   \n50%     56.000000    1.000000    3.000000  130.000000  243.000000    0.000000   \n75%     61.000000    1.000000    4.000000  140.000000  276.000000    0.000000   \nmax     77.000000    1.000000    4.000000  200.000000  564.000000    1.000000   \n\n          restecg     thalach       exang     oldpeak       slope          ca  \\\ncount  297.000000  297.000000  297.000000  297.000000  297.000000  297.000000   \nmean     0.996633  149.599327    0.326599    1.055556    1.602694    0.676768   \nstd      0.994914   22.941562    0.469761    1.166123    0.618187    0.938965   \nmin      0.000000   71.000000    0.000000    0.000000    1.000000    0.000000   \n25%      0.000000  133.000000    0.000000    0.000000    1.000000    0.000000   \n50%      1.000000  153.000000    0.000000    0.800000    2.000000    0.000000   \n75%      2.000000  166.000000    1.000000    1.600000    2.000000    1.000000   \nmax      2.000000  202.000000    1.000000    6.200000    3.000000    3.000000   \n\n             thal        goal  \ncount  297.000000  297.000000  \nmean     4.730640    0.946128  \nstd      1.938629    1.234551  \nmin      3.000000    0.000000  \n25%      3.000000    0.000000  \n50%      3.000000    0.000000  \n75%      7.000000    2.000000  \nmax      7.000000    4.000000  ",
      "text/html": "<div>\n<style scoped>\n    .dataframe tbody tr th:only-of-type {\n        vertical-align: middle;\n    }\n\n    .dataframe tbody tr th {\n        vertical-align: top;\n    }\n\n    .dataframe thead th {\n        text-align: right;\n    }\n</style>\n<table border=\"1\" class=\"dataframe\">\n  <thead>\n    <tr style=\"text-align: right;\">\n      <th></th>\n      <th>age</th>\n      <th>sex</th>\n      <th>cp</th>\n      <th>trestbps</th>\n      <th>chol</th>\n      <th>fbs</th>\n      <th>restecg</th>\n      <th>thalach</th>\n      <th>exang</th>\n      <th>oldpeak</th>\n      <th>slope</th>\n      <th>ca</th>\n      <th>thal</th>\n      <th>goal</th>\n    </tr>\n  </thead>\n  <tbody>\n    <tr>\n      <th>count</th>\n      <td>297.000000</td>\n      <td>297.000000</td>\n      <td>297.000000</td>\n      <td>297.000000</td>\n      <td>297.000000</td>\n      <td>297.000000</td>\n      <td>297.000000</td>\n      <td>297.000000</td>\n      <td>297.000000</td>\n      <td>297.000000</td>\n      <td>297.000000</td>\n      <td>297.000000</td>\n      <td>297.000000</td>\n      <td>297.000000</td>\n    </tr>\n    <tr>\n      <th>mean</th>\n      <td>54.542088</td>\n      <td>0.676768</td>\n      <td>3.158249</td>\n      <td>131.693603</td>\n      <td>247.350168</td>\n      <td>0.144781</td>\n      <td>0.996633</td>\n      <td>149.599327</td>\n      <td>0.326599</td>\n      <td>1.055556</td>\n      <td>1.602694</td>\n      <td>0.676768</td>\n      <td>4.730640</td>\n      <td>0.946128</td>\n    </tr>\n    <tr>\n      <th>std</th>\n      <td>9.049736</td>\n      <td>0.468500</td>\n      <td>0.964859</td>\n      <td>17.762806</td>\n      <td>51.997583</td>\n      <td>0.352474</td>\n      <td>0.994914</td>\n      <td>22.941562</td>\n      <td>0.469761</td>\n      <td>1.166123</td>\n      <td>0.618187</td>\n      <td>0.938965</td>\n      <td>1.938629</td>\n      <td>1.234551</td>\n    </tr>\n    <tr>\n      <th>min</th>\n      <td>29.000000</td>\n      <td>0.000000</td>\n      <td>1.000000</td>\n      <td>94.000000</td>\n      <td>126.000000</td>\n      <td>0.000000</td>\n      <td>0.000000</td>\n      <td>71.000000</td>\n      <td>0.000000</td>\n      <td>0.000000</td>\n      <td>1.000000</td>\n      <td>0.000000</td>\n      <td>3.000000</td>\n      <td>0.000000</td>\n    </tr>\n    <tr>\n      <th>25%</th>\n      <td>48.000000</td>\n      <td>0.000000</td>\n      <td>3.000000</td>\n      <td>120.000000</td>\n      <td>211.000000</td>\n      <td>0.000000</td>\n      <td>0.000000</td>\n      <td>133.000000</td>\n      <td>0.000000</td>\n      <td>0.000000</td>\n      <td>1.000000</td>\n      <td>0.000000</td>\n      <td>3.000000</td>\n      <td>0.000000</td>\n    </tr>\n    <tr>\n      <th>50%</th>\n      <td>56.000000</td>\n      <td>1.000000</td>\n      <td>3.000000</td>\n      <td>130.000000</td>\n      <td>243.000000</td>\n      <td>0.000000</td>\n      <td>1.000000</td>\n      <td>153.000000</td>\n      <td>0.000000</td>\n      <td>0.800000</td>\n      <td>2.000000</td>\n      <td>0.000000</td>\n      <td>3.000000</td>\n      <td>0.000000</td>\n    </tr>\n    <tr>\n      <th>75%</th>\n      <td>61.000000</td>\n      <td>1.000000</td>\n      <td>4.000000</td>\n      <td>140.000000</td>\n      <td>276.000000</td>\n      <td>0.000000</td>\n      <td>2.000000</td>\n      <td>166.000000</td>\n      <td>1.000000</td>\n      <td>1.600000</td>\n      <td>2.000000</td>\n      <td>1.000000</td>\n      <td>7.000000</td>\n      <td>2.000000</td>\n    </tr>\n    <tr>\n      <th>max</th>\n      <td>77.000000</td>\n      <td>1.000000</td>\n      <td>4.000000</td>\n      <td>200.000000</td>\n      <td>564.000000</td>\n      <td>1.000000</td>\n      <td>2.000000</td>\n      <td>202.000000</td>\n      <td>1.000000</td>\n      <td>6.200000</td>\n      <td>3.000000</td>\n      <td>3.000000</td>\n      <td>7.000000</td>\n      <td>4.000000</td>\n    </tr>\n  </tbody>\n</table>\n</div>"
     },
     "metadata": {},
     "execution_count": 2
    }
   ],
   "source": [
    "# import data\n",
    "names = ['age','sex','cp', 'trestbps', 'chol', 'fbs', 'restecg', 'thalach', 'exang', \\\n",
    "         'oldpeak', 'slope', 'ca', 'thal', 'goal']\n",
    "data_raw = pd.read_csv('./data/processed.cleveland.data', names = names, header=None, na_values=['?'])\n",
    "# drop rows with null values \n",
    "data_used = data_raw.dropna() # or use data_raw.fillna(values) to replace null data with values\n",
    "data_used.describe()"
   ]
  },
  {
   "cell_type": "code",
   "execution_count": 3,
   "metadata": {
    "tags": []
   },
   "outputs": [
    {
     "output_type": "stream",
     "name": "stdout",
     "text": "all_num:297, val_num:59, test_num:59, train_num:179\n"
    }
   ],
   "source": [
    "all_num = data_used.shape[0]\n",
    "val_num = all_num // 5\n",
    "test_num = all_num // 5\n",
    "train_num = all_num - val_num - test_num\n",
    "print('all_num:{}, val_num:{}, test_num:{}, train_num:{}'.format(all_num, val_num, test_num, train_num))"
   ]
  },
  {
   "cell_type": "code",
   "execution_count": 4,
   "metadata": {
    "tags": []
   },
   "outputs": [],
   "source": [
    "# shuffle the set\n",
    "data_shuffled = np.array(data_used).astype(int)\n",
    "np.random.shuffle(data_shuffled)\n",
    "\n",
    "# mask\n",
    "train_mask = range(train_num)\n",
    "val_mask = range(train_num,train_num+val_num)\n",
    "test_mask = range(train_num + val_num, train_num + val_num + test_num)\n",
    "# devide set into 3 parts (train, val, test)\n",
    "x_train = data_shuffled[train_mask, :-1]\n",
    "y_train = data_shuffled[train_mask, -1]\n",
    "x_val = data_shuffled[val_mask, :-1]\n",
    "y_val = data_shuffled[val_mask, -1]\n",
    "x_test = data_shuffled[test_mask, :-1]\n",
    "y_test = data_shuffled[test_mask, -1]"
   ]
  },
  {
   "cell_type": "code",
   "execution_count": 5,
   "metadata": {},
   "outputs": [],
   "source": [
    "# naive bayes\n",
    "class NB():\n",
    "    def __init__(self, X, Y, la=1):\n",
    "        self.X = X\n",
    "        self.Y = Y\n",
    "        self.p = {}\n",
    "        self.p_x_y = {}\n",
    "        self.N = len(Y) # number of rows\n",
    "        self.A = X.shape[1] # number of attributes\n",
    "        self.la = la # lambda\n",
    "    def train(self):\n",
    "        goals, cnt_goals = np.unique(self.Y, return_counts=True)\n",
    "        for idx_g, goal in enumerate(goals):\n",
    "            self.p[goal] = cnt_goals[idx_g] / self.N\n",
    "            mask_goal = self.Y == goal\n",
    "            X_goal = self.X[mask_goal]\n",
    "            for j in range(self.A):\n",
    "                unique, count = np.unique(X_goal[:,j], return_counts=True)\n",
    "                for idx_a, a in enumerate(unique):\n",
    "                    self.p_x_y[(j, a, goal)] = (count[idx_a] + self.la) / (cnt_goals[idx_g] + len(unique)*self.la)\n",
    "    def pred(self, x):\n",
    "        preds = []\n",
    "        for item in x:\n",
    "            max_score = 0\n",
    "            max_goal = -1\n",
    "            for goal in self.p:\n",
    "                score = self.p[goal]\n",
    "                for idx_a in range(self.A):\n",
    "                    score = score * self.p_x_y[(idx_a, item[idx_a], goal)]\n",
    "                if score > max_score:\n",
    "                    max_score = score\n",
    "                    max_goal = goal\n",
    "            preds.append(max_goal)\n",
    "        return preds"
   ]
  },
  {
   "cell_type": "code",
   "execution_count": 6,
   "metadata": {
    "tags": []
   },
   "outputs": [],
   "source": [
    "def check_accuracy(Y, fx):\n",
    "    num_correct = np.sum(Y == fx)\n",
    "    num_samples = len(Y)\n",
    "    acc = float(num_correct) / num_samples\n",
    "    print('Got {} / {} correct {:.2%}'.format(num_correct, num_samples, acc))"
   ]
  },
  {
   "cell_type": "code",
   "execution_count": 7,
   "metadata": {
    "tags": []
   },
   "outputs": [
    {
     "output_type": "error",
     "ename": "KeyError",
     "evalue": "(4, 254, 0)",
     "traceback": [
      "\u001b[1;31m---------------------------------------------------------------------------\u001b[0m",
      "\u001b[1;31mKeyError\u001b[0m                                  Traceback (most recent call last)",
      "\u001b[1;32m<ipython-input-7-4865060ddb28>\u001b[0m in \u001b[0;36m<module>\u001b[1;34m\u001b[0m\n\u001b[0;32m      1\u001b[0m \u001b[0mmodel\u001b[0m \u001b[1;33m=\u001b[0m \u001b[0mNB\u001b[0m\u001b[1;33m(\u001b[0m\u001b[0mx_train\u001b[0m\u001b[1;33m,\u001b[0m \u001b[0my_train\u001b[0m\u001b[1;33m)\u001b[0m\u001b[1;33m\u001b[0m\u001b[1;33m\u001b[0m\u001b[0m\n\u001b[0;32m      2\u001b[0m \u001b[0mmodel\u001b[0m\u001b[1;33m.\u001b[0m\u001b[0mtrain\u001b[0m\u001b[1;33m(\u001b[0m\u001b[1;33m)\u001b[0m\u001b[1;33m\u001b[0m\u001b[1;33m\u001b[0m\u001b[0m\n\u001b[1;32m----> 3\u001b[1;33m \u001b[0mpreds\u001b[0m \u001b[1;33m=\u001b[0m \u001b[0mmodel\u001b[0m\u001b[1;33m.\u001b[0m\u001b[0mpred\u001b[0m\u001b[1;33m(\u001b[0m\u001b[0mx_val\u001b[0m\u001b[1;33m)\u001b[0m\u001b[1;33m\u001b[0m\u001b[1;33m\u001b[0m\u001b[0m\n\u001b[0m\u001b[0;32m      4\u001b[0m \u001b[0mcheck_accuracy\u001b[0m\u001b[1;33m(\u001b[0m\u001b[0my_val\u001b[0m\u001b[1;33m,\u001b[0m \u001b[0mpreds\u001b[0m\u001b[1;33m)\u001b[0m\u001b[1;33m\u001b[0m\u001b[1;33m\u001b[0m\u001b[0m\n",
      "\u001b[1;32m<ipython-input-5-64edf76a1817>\u001b[0m in \u001b[0;36mpred\u001b[1;34m(self, x)\u001b[0m\n\u001b[0;32m     27\u001b[0m                 \u001b[0mscore\u001b[0m \u001b[1;33m=\u001b[0m \u001b[0mself\u001b[0m\u001b[1;33m.\u001b[0m\u001b[0mp\u001b[0m\u001b[1;33m[\u001b[0m\u001b[0mgoal\u001b[0m\u001b[1;33m]\u001b[0m\u001b[1;33m\u001b[0m\u001b[1;33m\u001b[0m\u001b[0m\n\u001b[0;32m     28\u001b[0m                 \u001b[1;32mfor\u001b[0m \u001b[0midx_a\u001b[0m \u001b[1;32min\u001b[0m \u001b[0mrange\u001b[0m\u001b[1;33m(\u001b[0m\u001b[0mself\u001b[0m\u001b[1;33m.\u001b[0m\u001b[0mA\u001b[0m\u001b[1;33m)\u001b[0m\u001b[1;33m:\u001b[0m\u001b[1;33m\u001b[0m\u001b[1;33m\u001b[0m\u001b[0m\n\u001b[1;32m---> 29\u001b[1;33m                     \u001b[0mscore\u001b[0m \u001b[1;33m=\u001b[0m \u001b[0mscore\u001b[0m \u001b[1;33m*\u001b[0m \u001b[0mself\u001b[0m\u001b[1;33m.\u001b[0m\u001b[0mp_x_y\u001b[0m\u001b[1;33m[\u001b[0m\u001b[1;33m(\u001b[0m\u001b[0midx_a\u001b[0m\u001b[1;33m,\u001b[0m \u001b[0mitem\u001b[0m\u001b[1;33m[\u001b[0m\u001b[0midx_a\u001b[0m\u001b[1;33m]\u001b[0m\u001b[1;33m,\u001b[0m \u001b[0mgoal\u001b[0m\u001b[1;33m)\u001b[0m\u001b[1;33m]\u001b[0m\u001b[1;33m\u001b[0m\u001b[1;33m\u001b[0m\u001b[0m\n\u001b[0m\u001b[0;32m     30\u001b[0m                 \u001b[1;32mif\u001b[0m \u001b[0mscore\u001b[0m \u001b[1;33m>\u001b[0m \u001b[0mmax_score\u001b[0m\u001b[1;33m:\u001b[0m\u001b[1;33m\u001b[0m\u001b[1;33m\u001b[0m\u001b[0m\n\u001b[0;32m     31\u001b[0m                     \u001b[0mmax_score\u001b[0m \u001b[1;33m=\u001b[0m \u001b[0mscore\u001b[0m\u001b[1;33m\u001b[0m\u001b[1;33m\u001b[0m\u001b[0m\n",
      "\u001b[1;31mKeyError\u001b[0m: (4, 254, 0)"
     ]
    }
   ],
   "source": [
    "model = NB(x_train, y_train)\n",
    "model.train()\n",
    "preds = model.pred(x_val)\n",
    "check_accuracy(y_val, preds)"
   ]
  },
  {
   "cell_type": "markdown",
   "metadata": {},
   "source": [
    "## About the Error\n",
    "\n",
    "理论上需要知道每个特征的所有取值，但是对于实际的数据集，还是存在一些问题，比如你不能保证训练集中包含了所有的取值。\n",
    "\n",
    "解决方法：\n",
    "\n",
    "1.对数据进行预处理，保证训练集中包含所有特征的取值\n",
    "\n",
    "2.先把所有数据集传进去，收集所有特征，再使用训练集训练\n",
    "\n",
    "3.对于不存在的组合，直接使用公式 $\\frac{(0 + lambda)}{(0 + lambda \\times S_j)}$"
   ]
  },
  {
   "cell_type": "code",
   "execution_count": 8,
   "metadata": {},
   "outputs": [],
   "source": [
    "# naive bayes with modification\n",
    "class NB_mdf():\n",
    "    def __init__(self, X, Y, la=1):\n",
    "        '''\n",
    "        X, Y: data with all available features\n",
    "        '''\n",
    "        self.X = X # all data\n",
    "        self.Y = Y # all data's label\n",
    "        self.p = {}\n",
    "        self.p_x_y = {}\n",
    "        self.N = len(Y) # number of rows\n",
    "        self.A = X.shape[1] # number of attributes\n",
    "        self.la = la # lambda\n",
    "        # collecting features\n",
    "        self.goals = np.unique(self.Y)\n",
    "        self.features = []\n",
    "        for idx_f in range(X.shape[1]):\n",
    "            self.features.append(np.unique(X[:,idx_f]))\n",
    "\n",
    "    def train(self, x, y):\n",
    "        '''\n",
    "        x:x_train\n",
    "        y:y_train\n",
    "        '''\n",
    "        for goal in self.goals:\n",
    "            self.p[goal] = np.sum((y == goal)) / len(y)\n",
    "            y_ck_mask = y == goal\n",
    "            for idx_f, features in enumerate(self.features):\n",
    "                x_j = x[:,idx_f][y_ck_mask]\n",
    "                s_j = len(features)\n",
    "                for feat in features:\n",
    "                    self.p_x_y[(idx_f, feat, goal)] = (np.sum(x_j == feat) + self.la) / (self.p[goal] * len(y) + s_j*self.la)\n",
    "\n",
    "    def pred(self, x):\n",
    "        preds = []\n",
    "        for item in x:\n",
    "            max_score = 0\n",
    "            max_goal = -1\n",
    "            for goal in self.p:\n",
    "                score = self.p[goal]\n",
    "                for idx_a in range(self.A):\n",
    "                    score = score * self.p_x_y[(idx_a, item[idx_a], goal)]\n",
    "                if score > max_score:\n",
    "                    max_score = score\n",
    "                    max_goal = goal\n",
    "            preds.append(max_goal)\n",
    "        return preds"
   ]
  },
  {
   "cell_type": "code",
   "execution_count": 9,
   "metadata": {
    "tags": []
   },
   "outputs": [
    {
     "output_type": "stream",
     "name": "stdout",
     "text": "Got 29 / 59 correct 49.15%\n"
    }
   ],
   "source": [
    "model = NB_mdf(data_shuffled[:,:-1], data_shuffled[:,-1])\n",
    "# model.train(data_shuffled[:,:-1], data_shuffled[:,-1])\n",
    "model.train(x_train, y_train)\n",
    "preds = model.pred(x_val)\n",
    "check_accuracy(y_val, preds)"
   ]
  },
  {
   "cell_type": "code",
   "execution_count": 10,
   "metadata": {
    "tags": []
   },
   "outputs": [
    {
     "output_type": "stream",
     "name": "stdout",
     "text": "Got 31 / 59 correct 52.54%\n"
    }
   ],
   "source": [
    "preds = model.pred(x_test)\n",
    "check_accuracy(y_test, preds)"
   ]
  },
  {
   "cell_type": "markdown",
   "metadata": {},
   "source": [
    "感觉正确率挺低的所以用sklearn验证一下"
   ]
  },
  {
   "cell_type": "code",
   "execution_count": 11,
   "metadata": {
    "tags": []
   },
   "outputs": [
    {
     "output_type": "stream",
     "name": "stdout",
     "text": "Got 30 / 59 correct 50.85%\nGot 27 / 59 correct 45.76%\n"
    }
   ],
   "source": [
    "from sklearn.naive_bayes import MultinomialNB\n",
    "clf = MultinomialNB()\n",
    "clf.fit(x_train, y_train)\n",
    "clf_preds = clf.predict(x_val)\n",
    "check_accuracy(y_val, clf_preds)\n",
    "clf_preds = clf.predict(x_test)\n",
    "check_accuracy(y_test, clf_preds)"
   ]
  }
 ],
 "metadata": {
  "kernelspec": {
   "display_name": "Python 3",
   "language": "python",
   "name": "python3"
  },
  "language_info": {
   "codemirror_mode": {
    "name": "ipython",
    "version": 3
   },
   "file_extension": ".py",
   "mimetype": "text/x-python",
   "name": "python",
   "nbconvert_exporter": "python",
   "pygments_lexer": "ipython3",
   "version": "3.7.6-final"
  }
 },
 "nbformat": 4,
 "nbformat_minor": 4
}