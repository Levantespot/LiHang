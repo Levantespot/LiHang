{
 "cells": [
  {
   "cell_type": "code",
   "execution_count": 1,
   "metadata": {},
   "outputs": [],
   "source": [
    "import numpy as np\n",
    "import pandas as pd\n",
    "import matplotlib\n",
    "import matplotlib.pyplot as plt\n",
    "# notebook will reload external python modules\n",
    "%load_ext autoreload\n",
    "%autoreload 2"
   ]
  },
  {
   "cell_type": "code",
   "execution_count": 2,
   "metadata": {
    "tags": []
   },
   "outputs": [
    {
     "name": "stdout",
     "output_type": "stream",
     "text": [
      "all_num:150, val_num:30, test_num:30, train_num:90\n"
     ]
    }
   ],
   "source": [
    "# import data\n",
    "names = ['sepal_length','sepal_width','petal_length', 'petal_width', 'class']\n",
    "data_raw = pd.read_csv('./data/iris.data', names = names, header=None)\n",
    "# use all data\n",
    "data_used = data_raw\n",
    "\n",
    "all_num = data_used.shape[0]\n",
    "val_num = all_num // 5\n",
    "test_num = all_num // 5\n",
    "train_num = all_num - val_num - test_num\n",
    "\n",
    "print('all_num:{}, val_num:{}, test_num:{}, train_num:{}'.format(all_num, val_num, test_num, train_num))"
   ]
  },
  {
   "cell_type": "code",
   "execution_count": 3,
   "metadata": {
    "tags": []
   },
   "outputs": [],
   "source": [
    "# change the label into {0, 1, 2}\n",
    "data_mdf = data_used.copy()\n",
    "for idx in range(all_num):\n",
    "    item = data_mdf.loc[idx, 'class']\n",
    "    if item == 'Iris-setosa':\n",
    "        data_mdf.loc[idx, 'class'] = 0\n",
    "    elif item == 'Iris-versicolor':\n",
    "        data_mdf.loc[idx, 'class'] = 1\n",
    "    elif item == 'Iris-virginica':\n",
    "        data_mdf.loc[idx, 'class'] = 2\n",
    "    else:\n",
    "        print('item={}'.format(item))\n",
    "        raise ValueError(\"data_label unmatched\")\n",
    "\n",
    "# shuffle the set\n",
    "data_shuffled = np.array(data_mdf).astype(float)\n",
    "np.random.shuffle(data_shuffled)\n",
    "\n",
    "# mask\n",
    "train_mask = range(train_num)\n",
    "val_mask = range(train_num,train_num+val_num)\n",
    "test_mask = range(train_num + val_num, train_num + val_num + test_num)\n",
    "# devide set into 3 parts (train, val, test)\n",
    "x_train = data_shuffled[train_mask, 0:4]\n",
    "y_train = data_shuffled[train_mask, 4]\n",
    "x_val = data_shuffled[val_mask, 0:4]\n",
    "y_val = data_shuffled[val_mask, 4]\n",
    "x_test = data_shuffled[test_mask, 0:4]\n",
    "y_test = data_shuffled[test_mask, 4]\n"
   ]
  },
  {
   "cell_type": "code",
   "execution_count": 4,
   "metadata": {
    "tags": []
   },
   "outputs": [
    {
     "name": "stdout",
     "output_type": "stream",
     "text": [
      "mean:[[5.8   3.175 3.375 0.95 ]], std:[0.8291562]\n"
     ]
    }
   ],
   "source": [
    "# preprocess the data\n",
    "mean = np.mean(x_train[:4], axis=0, keepdims=True)\n",
    "std = np.std(y_train[:4], axis=0, keepdims=True)\n",
    "print('mean:{}, std:{}'.format(mean, std))\n",
    "x_train = (x_train - mean) / (std + 1e-7)\n",
    "x_val = (x_val - mean) / (std + 1e-7)\n",
    "x_test = (x_test - mean) / (std + 1e-7)"
   ]
  },
  {
   "cell_type": "code",
   "execution_count": 5,
   "metadata": {},
   "outputs": [],
   "source": [
    "# knn\n",
    "class kNN():\n",
    "    def __init__(self, X, Y, class_num):\n",
    "        '''\n",
    "        x : x_train\n",
    "        y : y_train\n",
    "        class_num : the num of class in y\n",
    "        '''\n",
    "        self.X = X\n",
    "        self.Y = Y\n",
    "        self.class_num = class_num\n",
    "    def pred(self, x, k):\n",
    "        preds = []\n",
    "        for item in x:\n",
    "            dst = np.sum((self.X - item)**2, axis=1)**0.5\n",
    "            indices = np.argsort(dst)[:k]\n",
    "            y = self.Y[indices]\n",
    "            count = np.zeros(self.class_num)\n",
    "            for class_idx in range(self.class_num):\n",
    "                count[class_idx] = np.count_nonzero(y == class_idx)\n",
    "            preds.append(np.argmax(count, axis=0))\n",
    "        return preds"
   ]
  },
  {
   "cell_type": "code",
   "execution_count": 6,
   "metadata": {
    "tags": []
   },
   "outputs": [],
   "source": [
    "def check_accuracy(Y, fx):\n",
    "    num_correct = np.sum(Y == fx)\n",
    "    num_samples = len(Y)\n",
    "    acc = float(num_correct) / num_samples\n",
    "    print('Got {} / {} correct {:.2%}'.format(num_correct, num_samples, acc))"
   ]
  },
  {
   "cell_type": "code",
   "execution_count": 7,
   "metadata": {
    "tags": []
   },
   "outputs": [
    {
     "name": "stdout",
     "output_type": "stream",
     "text": [
      "Got 30 / 30 correct 100.00%\n"
     ]
    }
   ],
   "source": [
    "class_num = 3\n",
    "k = 5\n",
    "model = kNN(x_train, y_train, class_num)\n",
    "preds = model.pred(x_val, k)\n",
    "check_accuracy(y_val, preds)"
   ]
  },
  {
   "cell_type": "code",
   "execution_count": 8,
   "metadata": {
    "tags": []
   },
   "outputs": [
    {
     "name": "stdout",
     "output_type": "stream",
     "text": [
      "Got 29 / 30 correct 96.67%\n"
     ]
    }
   ],
   "source": [
    "preds = model.pred(x_test, k)\n",
    "check_accuracy(y_test, preds)"
   ]
  }
 ],
 "metadata": {
  "kernelspec": {
   "display_name": "Python 3",
   "language": "python",
   "name": "python3"
  },
  "language_info": {
   "codemirror_mode": {
    "name": "ipython",
    "version": 3
   },
   "file_extension": ".py",
   "mimetype": "text/x-python",
   "name": "python",
   "nbconvert_exporter": "python",
   "pygments_lexer": "ipython3",
   "version": "3.7.6"
  }
 },
 "nbformat": 4,
 "nbformat_minor": 4
}
