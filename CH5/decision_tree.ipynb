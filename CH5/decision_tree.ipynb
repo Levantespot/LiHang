{
 "cells": [
  {
   "cell_type": "code",
   "execution_count": 1,
   "metadata": {
    "tags": []
   },
   "outputs": [],
   "source": [
    "import numpy as np\n",
    "import pandas as pd\n",
    "import matplotlib\n",
    "import matplotlib.pyplot as plt\n",
    "# notebook will reload external python modules\n",
    "%load_ext autoreload\n",
    "%autoreload 2"
   ]
  },
  {
   "cell_type": "markdown",
   "metadata": {},
   "source": [
    "## 分类树的建立与剪枝"
   ]
  },
  {
   "cell_type": "code",
   "execution_count": 2,
   "metadata": {
    "tags": []
   },
   "outputs": [
    {
     "output_type": "execute_result",
     "data": {
      "text/plain": "              sex          cp         fbs     restecg       exang       slope  \\\ncount  297.000000  297.000000  297.000000  297.000000  297.000000  297.000000   \nmean     0.676768    3.158249    0.144781    0.996633    0.326599    1.602694   \nstd      0.468500    0.964859    0.352474    0.994914    0.469761    0.618187   \nmin      0.000000    1.000000    0.000000    0.000000    0.000000    1.000000   \n25%      0.000000    3.000000    0.000000    0.000000    0.000000    1.000000   \n50%      1.000000    3.000000    0.000000    1.000000    0.000000    2.000000   \n75%      1.000000    4.000000    0.000000    2.000000    1.000000    2.000000   \nmax      1.000000    4.000000    1.000000    2.000000    1.000000    3.000000   \n\n               ca        thal        goal  \ncount  297.000000  297.000000  297.000000  \nmean     0.676768    4.730640    0.946128  \nstd      0.938965    1.938629    1.234551  \nmin      0.000000    3.000000    0.000000  \n25%      0.000000    3.000000    0.000000  \n50%      0.000000    3.000000    0.000000  \n75%      1.000000    7.000000    2.000000  \nmax      3.000000    7.000000    4.000000  ",
      "text/html": "<div>\n<style scoped>\n    .dataframe tbody tr th:only-of-type {\n        vertical-align: middle;\n    }\n\n    .dataframe tbody tr th {\n        vertical-align: top;\n    }\n\n    .dataframe thead th {\n        text-align: right;\n    }\n</style>\n<table border=\"1\" class=\"dataframe\">\n  <thead>\n    <tr style=\"text-align: right;\">\n      <th></th>\n      <th>sex</th>\n      <th>cp</th>\n      <th>fbs</th>\n      <th>restecg</th>\n      <th>exang</th>\n      <th>slope</th>\n      <th>ca</th>\n      <th>thal</th>\n      <th>goal</th>\n    </tr>\n  </thead>\n  <tbody>\n    <tr>\n      <th>count</th>\n      <td>297.000000</td>\n      <td>297.000000</td>\n      <td>297.000000</td>\n      <td>297.000000</td>\n      <td>297.000000</td>\n      <td>297.000000</td>\n      <td>297.000000</td>\n      <td>297.000000</td>\n      <td>297.000000</td>\n    </tr>\n    <tr>\n      <th>mean</th>\n      <td>0.676768</td>\n      <td>3.158249</td>\n      <td>0.144781</td>\n      <td>0.996633</td>\n      <td>0.326599</td>\n      <td>1.602694</td>\n      <td>0.676768</td>\n      <td>4.730640</td>\n      <td>0.946128</td>\n    </tr>\n    <tr>\n      <th>std</th>\n      <td>0.468500</td>\n      <td>0.964859</td>\n      <td>0.352474</td>\n      <td>0.994914</td>\n      <td>0.469761</td>\n      <td>0.618187</td>\n      <td>0.938965</td>\n      <td>1.938629</td>\n      <td>1.234551</td>\n    </tr>\n    <tr>\n      <th>min</th>\n      <td>0.000000</td>\n      <td>1.000000</td>\n      <td>0.000000</td>\n      <td>0.000000</td>\n      <td>0.000000</td>\n      <td>1.000000</td>\n      <td>0.000000</td>\n      <td>3.000000</td>\n      <td>0.000000</td>\n    </tr>\n    <tr>\n      <th>25%</th>\n      <td>0.000000</td>\n      <td>3.000000</td>\n      <td>0.000000</td>\n      <td>0.000000</td>\n      <td>0.000000</td>\n      <td>1.000000</td>\n      <td>0.000000</td>\n      <td>3.000000</td>\n      <td>0.000000</td>\n    </tr>\n    <tr>\n      <th>50%</th>\n      <td>1.000000</td>\n      <td>3.000000</td>\n      <td>0.000000</td>\n      <td>1.000000</td>\n      <td>0.000000</td>\n      <td>2.000000</td>\n      <td>0.000000</td>\n      <td>3.000000</td>\n      <td>0.000000</td>\n    </tr>\n    <tr>\n      <th>75%</th>\n      <td>1.000000</td>\n      <td>4.000000</td>\n      <td>0.000000</td>\n      <td>2.000000</td>\n      <td>1.000000</td>\n      <td>2.000000</td>\n      <td>1.000000</td>\n      <td>7.000000</td>\n      <td>2.000000</td>\n    </tr>\n    <tr>\n      <th>max</th>\n      <td>1.000000</td>\n      <td>4.000000</td>\n      <td>1.000000</td>\n      <td>2.000000</td>\n      <td>1.000000</td>\n      <td>3.000000</td>\n      <td>3.000000</td>\n      <td>7.000000</td>\n      <td>4.000000</td>\n    </tr>\n  </tbody>\n</table>\n</div>"
     },
     "metadata": {},
     "execution_count": 2
    }
   ],
   "source": [
    "# import data\n",
    "names = ['age','sex','cp', 'trestbps', 'chol', 'fbs', 'restecg', 'thalach', 'exang', \\\n",
    "         'oldpeak', 'slope', 'ca', 'thal', 'goal']\n",
    "data_raw = pd.read_csv('./data/processed.cleveland.data', names = names, header=None, na_values=['?'])\n",
    "# drop rows with null values \n",
    "data_used = data_raw.dropna()[['sex','cp', 'fbs', 'restecg', 'exang', 'slope', 'ca', \\\n",
    "        'thal', 'goal']] # or use data_raw.fillna(values) to replace null data with values\n",
    "data_used.describe()"
   ]
  },
  {
   "cell_type": "code",
   "execution_count": 3,
   "metadata": {
    "tags": []
   },
   "outputs": [
    {
     "output_type": "stream",
     "name": "stdout",
     "text": "sex's unique number:2\ncp's unique number:4\nfbs's unique number:2\nrestecg's unique number:3\nexang's unique number:2\nslope's unique number:3\nca's unique number:4\nthal's unique number:3\ngoal's unique number:5\nall_num:297, val_num:59, test_num:59, train_num:179\n"
    }
   ],
   "source": [
    "for item in data_used:\n",
    "    print(item + '\\'s unique number:' + str(data_used[item].nunique()))\n",
    "all_num = data_used.shape[0]\n",
    "val_num = all_num // 5\n",
    "test_num = all_num // 5\n",
    "train_num = all_num - val_num - test_num\n",
    "print('all_num:{}, val_num:{}, test_num:{}, train_num:{}'.format(all_num, val_num, test_num, train_num))"
   ]
  },
  {
   "cell_type": "code",
   "execution_count": 4,
   "metadata": {
    "tags": []
   },
   "outputs": [],
   "source": [
    "# shuffle the set\n",
    "data_shuffled = np.array(data_used)\n",
    "np.random.shuffle(data_shuffled)\n",
    "\n",
    "# mask\n",
    "train_mask = range(train_num)\n",
    "val_mask = range(train_num,train_num+val_num)\n",
    "test_mask = range(train_num + val_num, train_num + val_num + test_num)\n",
    "# devide set into 3 parts (train, val, test)\n",
    "x_train = data_shuffled[train_mask, :-1]\n",
    "y_train = data_shuffled[train_mask, -1]\n",
    "x_val = data_shuffled[val_mask, :-1]\n",
    "y_val = data_shuffled[val_mask, -1]\n",
    "x_test = data_shuffled[test_mask, :-1]\n",
    "y_test = data_shuffled[test_mask, -1]"
   ]
  },
  {
   "cell_type": "code",
   "execution_count": 5,
   "metadata": {},
   "outputs": [],
   "source": [
    "# define binary tree class\n",
    "class Tree:\n",
    "    def __init__(self, x, y, feature_index, feature_value):\n",
    "        self.x = x\n",
    "        self.y = y\n",
    "        self.feat_idx = feature_index\n",
    "        self.feat_val = feature_value\n",
    "        self.left = None\n",
    "        self.right = None\n",
    "    def insert_left(self, set_index, feature_index, feature_value):\n",
    "        if self.left == None:\n",
    "            self.left = Tree(self.x[set_index], self.y[set_index], feature_index, feature_value)\n",
    "        else:\n",
    "            raise ValueError(\"The node already had a left child !\")\n",
    "    def insert_right(self, set_index, feature_index, feature_value):\n",
    "        if self.right == None:\n",
    "            self.right = Tree(self.x[set_index], self.y[set_index], feature_index, feature_value)\n",
    "        else:\n",
    "            raise ValueError(\"The node already had a right child !\")\n",
    "    def get_left(self):\n",
    "        if self.left != None:\n",
    "            return self.left\n",
    "        else:\n",
    "            raise ValueError(\"Chile doesn't exist\")\n",
    "    def get_right(self):\n",
    "        if self.right != None:\n",
    "            return self.right\n",
    "        else:\n",
    "            raise ValueError(\"Chile doesn't exist\")\n",
    "    def get_info(self):\n",
    "        return self.x, self.y, self.feat_idx, self.feat_val"
   ]
  },
  {
   "cell_type": "code",
   "execution_count": 6,
   "metadata": {
    "tags": []
   },
   "outputs": [],
   "source": [
    "def check_accuracy(Y, fx):\n",
    "    num_correct = np.sum(Y == fx)\n",
    "    num_samples = len(Y)\n",
    "    acc = float(num_correct) / num_samples\n",
    "    print('Got {} / {} correct {:.2%}'.format(num_correct, num_samples, acc))"
   ]
  },
  {
   "cell_type": "code",
   "execution_count": 8,
   "metadata": {},
   "outputs": [],
   "source": [
    "# Classcification tree\n",
    "class DT_CT():\n",
    "    def __init__(self, threshold_num = 2, threshold_gini = 0.2):\n",
    "        '''\n",
    "        threshold_num:若该节点的数据集样本数量少于该值，则结束\n",
    "        threshold_gini:若该节点的基尼指数小于该值，则结束\n",
    "        '''\n",
    "        self.root = None # root of the DT\n",
    "        self.N = len(Y) # number of rows\n",
    "        self.A = X.shape[1] # number of attributes\n",
    "        self.features = None\n",
    "        self.thld_num = threshold_num\n",
    "        self.thld_gini = threshold_gini\n",
    "    def collect_feature(self, X):\n",
    "        '''\n",
    "        X: data with all avaliable features\n",
    "        '''\n",
    "        self.features = []\n",
    "        for idx_f in range(X.shape[1]):\n",
    "            self.features.append(np.unique(X[:,idx_f]))\n",
    "    def train(self, x, y):\n",
    "        '''\n",
    "        x:x_train\n",
    "        y:y_train\n",
    "        '''\n",
    "        set_index = np.arange(x.shape[0])\n",
    "        self.root = Tree(x, y, -1, -1)\n",
    "        self._divide_node(self.root)\n",
    "    def _divide_node(self, root):\n",
    "        lchild_idx, rchild_idx, feat_idx, feat_thld = self._cal_child(root)\n",
    "        if feat_idx != -1:\n",
    "            # Doesn't achieve the goal. Start dividing\n",
    "            root.insert_left(lchild_idx, feat_idx, feat_thld)\n",
    "            root.insert_right(rchild_idx, feat_idx, feat_thld)\n",
    "            self._divide_node(root.get_left())\n",
    "            self._divide_node(root.get_right())\n",
    "        else:\n",
    "            # Stop dividing\n",
    "            pass\n",
    "    def _cal_child(self, root):\n",
    "        x, y, _, _ = root.get_info()\n",
    "        flag = 0\n",
    "        if self._gini(y) < self.thld_gini:\n",
    "            flag = 1\n",
    "        elif len(x) < self.thld_num:\n",
    "            flag = 1\n",
    "        # return if achieve the goals\n",
    "        if flag = 1:\n",
    "            return None, None, -1, -1\n",
    "        else:\n",
    "            pass\n",
    "        # go on\n",
    "        feat_num = self.A\n",
    "        # Iterate every feature and its choices\n",
    "        for feat_idx in range(feat_num):\n",
    "            feat_choices = self.features[feat_idx]\n",
    "            min_gini = 1\n",
    "            min_feat_idx = None\n",
    "            min_feat = None\n",
    "            for feat in feat_choices:\n",
    "                d1_idx = np.arange(len(x))[x[feat_idx] == feat]\n",
    "                d2_idx = np.arange(len(x))[x[feat_idx] != feat]\n",
    "                if d1_idx + d2_idx != len(x):\n",
    "                    raise ValueError(\"d1_idx, d2_idx error\")\n",
    "                gini = (self._gini(y[d1_idx]) * len(d1_idx) \\\n",
    "                    + self._gini(y[d2_idx]) * len(d2_idx)) / len(x)\n",
    "                # Choose the smaller value\n",
    "                if gini < min_gini:\n",
    "                    min_gini = gini\n",
    "                    min_feat_idx = feat_idx\n",
    "                    min_feat = feat\n",
    "        # Dividing the node by the smallest keys \n",
    "        lchild_idx = np.arange(len(x))[x[min_feat_idx] == min_feat]\n",
    "        rchild_idx = np.arange(len(x))[x[min_feat_idx] != min_feat]\n",
    "        return lchild_idx, rchild_idx, min_feat_idx, min_feat\n",
    "    def _gini(self, y):\n",
    "        _, counts = np.unique(y, return_counts=True)\n",
    "        gini = 1\n",
    "        for item in counts:\n",
    "            gini -= (item / len(y))**2\n",
    "        return gini\n",
    "    def pred(self, x):\n",
    "        preds = []\n",
    "        for item in x:\n",
    "            pass\n",
    "        return preds"
   ]
  },
  {
   "cell_type": "code",
   "execution_count": 9,
   "metadata": {
    "tags": []
   },
   "outputs": [
    {
     "output_type": "stream",
     "name": "stdout",
     "text": "Got 29 / 59 correct 49.15%\n"
    }
   ],
   "source": [
    "model = NB_mdf(data_shuffled[:,:-1], data_shuffled[:,-1])\n",
    "# model.train(data_shuffled[:,:-1], data_shuffled[:,-1])\n",
    "model.train(x_train, y_train)\n",
    "preds = model.pred(x_val)\n",
    "check_accuracy(y_val, preds)"
   ]
  },
  {
   "cell_type": "code",
   "execution_count": 10,
   "metadata": {
    "tags": []
   },
   "outputs": [
    {
     "output_type": "stream",
     "name": "stdout",
     "text": "Got 31 / 59 correct 52.54%\n"
    }
   ],
   "source": [
    "preds = model.pred(x_test)\n",
    "check_accuracy(y_test, preds)"
   ]
  },
  {
   "cell_type": "markdown",
   "metadata": {},
   "source": [
    "感觉正确率挺低的所以用sklearn验证一下"
   ]
  },
  {
   "cell_type": "code",
   "execution_count": 11,
   "metadata": {
    "tags": []
   },
   "outputs": [
    {
     "output_type": "stream",
     "name": "stdout",
     "text": "Got 30 / 59 correct 50.85%\nGot 27 / 59 correct 45.76%\n"
    }
   ],
   "source": [
    "from sklearn.naive_bayes import MultinomialNB\n",
    "clf = MultinomialNB()\n",
    "clf.fit(x_train, y_train)\n",
    "clf_preds = clf.predict(x_val)\n",
    "check_accuracy(y_val, clf_preds)\n",
    "clf_preds = clf.predict(x_test)\n",
    "check_accuracy(y_test, clf_preds)"
   ]
  }
 ],
 "metadata": {
  "kernelspec": {
   "display_name": "Python 3",
   "language": "python",
   "name": "python3"
  },
  "language_info": {
   "codemirror_mode": {
    "name": "ipython",
    "version": 3
   },
   "file_extension": ".py",
   "mimetype": "text/x-python",
   "name": "python",
   "nbconvert_exporter": "python",
   "pygments_lexer": "ipython3",
   "version": "3.7.6-final"
  }
 },
 "nbformat": 4,
 "nbformat_minor": 4
}