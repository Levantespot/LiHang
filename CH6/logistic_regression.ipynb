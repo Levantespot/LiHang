{
 "cells": [
  {
   "cell_type": "code",
   "execution_count": 1,
   "metadata": {
    "tags": []
   },
   "outputs": [],
   "source": [
    "import numpy as np\n",
    "import pandas as pd\n",
    "import matplotlib\n",
    "import matplotlib.pyplot as plt\n",
    "# notebook will reload external python modules\n",
    "%load_ext autoreload\n",
    "%autoreload 2"
   ]
  },
  {
   "cell_type": "code",
   "execution_count": 2,
   "metadata": {},
   "outputs": [],
   "source": [
    "# import data\n",
    "data_raw = pd.read_csv('./data/iris.data', header=None)\n",
    "# only 2 classes are needed\n",
    "data = np.array(data_raw)[:100]"
   ]
  },
  {
   "cell_type": "code",
   "execution_count": 3,
   "metadata": {
    "tags": []
   },
   "outputs": [
    {
     "output_type": "stream",
     "name": "stdout",
     "text": "all_num:100, val_num:20, test_num:20, train_num:60\n"
    }
   ],
   "source": [
    "all_num = data.shape[0]\n",
    "val_num = all_num // 5\n",
    "test_num = all_num // 5\n",
    "train_num = all_num - val_num - test_num\n",
    "print('all_num:{}, val_num:{}, test_num:{}, train_num:{}'.format(all_num, val_num, test_num, train_num))"
   ]
  },
  {
   "cell_type": "code",
   "execution_count": 4,
   "metadata": {
    "tags": []
   },
   "outputs": [],
   "source": [
    "# change the label into {-1, 1}\n",
    "for idx in range(all_num):\n",
    "    item = data[idx][4]\n",
    "    if item == 'Iris-setosa':\n",
    "        data[idx][4] = 0\n",
    "    elif item == 'Iris-versicolor':\n",
    "        data[idx][4] = 1\n",
    "    # elif item == 'Iris-virginica':\n",
    "    #     data[idx][4] = 2\n",
    "    else:\n",
    "        raise ValueError(\"data_label unmatched\")\n",
    "\n",
    "# shuffle the set\n",
    "data_shuffled = data.copy().astype(float)\n",
    "np.random.shuffle(data_shuffled)\n",
    "\n",
    "# mask\n",
    "train_mask = range(train_num)\n",
    "val_mask = range(train_num,train_num+val_num)\n",
    "test_mask = range(train_num + val_num, train_num + val_num + test_num)\n",
    "# devide set into 3 parts (train, val, test)\n",
    "x_train = data_shuffled[train_mask, 0:4]\n",
    "y_train = data_shuffled[train_mask, 4]\n",
    "x_val = data_shuffled[val_mask, 0:4]\n",
    "y_val = data_shuffled[val_mask, 4]\n",
    "x_test = data_shuffled[test_mask, 0:4]\n",
    "y_test = data_shuffled[test_mask, 4]"
   ]
  },
  {
   "cell_type": "code",
   "execution_count": 5,
   "metadata": {
    "tags": []
   },
   "outputs": [],
   "source": [
    "def check_accuracy(Y, fx):\n",
    "    num_correct = np.sum(Y == fx)\n",
    "    num_samples = len(Y)\n",
    "    acc = float(num_correct) / num_samples\n",
    "    print('Got {} / {} correct {:.2%}'.format(num_correct, num_samples, acc))"
   ]
  },
  {
   "cell_type": "code",
   "execution_count": 6,
   "metadata": {},
   "outputs": [],
   "source": [
    "# Logistic Regression\n",
    "class LR():\n",
    "    def __init__(self, bias=True, lr=0.001, batchsize=16, epoch=1, shuffle=False):\n",
    "        self.w = None\n",
    "        self.batchsize = batchsize\n",
    "        self.epoch = epoch\n",
    "        self.lr = lr # learning rate\n",
    "        self.bias = bias\n",
    "        self.shuffle = shuffle\n",
    "        self.loss_history = []\n",
    "    def train(self, x, y, mu=0, sigma=1):\n",
    "        '''\n",
    "        x: N x F\n",
    "        y: N in {0,1}\n",
    "        '''\n",
    "        if self.bias == True:\n",
    "            # reshape x\n",
    "            x = np.hstack((x, np.ones((x.shape[0], 1))))\n",
    "        # initializing weights\n",
    "        self.w = np.random.normal(mu, sigma, x.shape[1])\n",
    "        data = np.hstack((x, y.reshape(len(y), 1)))\n",
    "        # shuffle the data\n",
    "        if self.shuffle == True:\n",
    "            np.random.shuffle(data)\n",
    "        # training\n",
    "        iterations = int(np.ceil(len(x) / self.batchsize))\n",
    "        for e in range(self.epoch):\n",
    "            for i in range(iterations):\n",
    "                x_batch, y_batch = self._get_batch(data, i)\n",
    "                loss, cache = self.forward(x_batch, y_batch)\n",
    "                self.backward(cache)\n",
    "                # print(\"batch:{}, iter:{}, loss={}\".format(e+1, i+1, loss))\n",
    "                self.loss_history.append(loss)\n",
    "    def _get_batch(self, data, iteration=0):\n",
    "        if (iteration+1) * self.batchsize <= len(data):\n",
    "            mask = np.arange(self.batchsize) + iteration * self.batchsize\n",
    "        else:\n",
    "            mask = np.arange(len(data) - iteration*self.batchsize) + iteration * self.batchsize\n",
    "        return data[mask][:,:-1], data[mask][:,-1]\n",
    "    def forward(self, x, y):\n",
    "        wx = np.dot(x, self.w)\n",
    "        loss = np.sum(y * wx - np.log(1 + np.exp(wx))) / -len(x)\n",
    "        cache = (x, y[:,np.newaxis], self.w, wx[:,np.newaxis])\n",
    "        return loss, cache\n",
    "    def backward(self, cache):\n",
    "        x, y, w, wx = cache\n",
    "        dw1 = np.sum(x * y, axis=0)\n",
    "        dw2 = -np.sum(x * np.exp(wx) / (1 + np.exp(wx)) , axis=0)\n",
    "        dw = (dw1 + dw2) / -len(x)\n",
    "        # dw = np.sum(x * (y-np.exp(wx)/(1+np.exp(wx))), axis=0) / -len(x)\n",
    "        self.w = self.w - dw * self.lr\n",
    "    def show_picture(self):\n",
    "        plt.title(\"Loss\")\n",
    "        plt.plot(self.loss_history)\n",
    "        plt.show()\n",
    "    def pred(self, x):\n",
    "        if self.bias == True:\n",
    "            x = np.hstack((x, np.ones((x.shape[0], 1))))\n",
    "        exp = np.exp(x.dot(self.w))\n",
    "        pred_1 = exp / (1+exp)\n",
    "        pred_0 = 1 - pred_1\n",
    "        preds = np.zeros(len(pred_0))\n",
    "        preds[pred_1 > pred_0] = 1\n",
    "        return preds"
   ]
  },
  {
   "cell_type": "code",
   "execution_count": 78,
   "metadata": {
    "tags": []
   },
   "outputs": [
    {
     "output_type": "display_data",
     "data": {
      "text/plain": "<Figure size 432x288 with 1 Axes>",
      "image/svg+xml": "<?xml version=\"1.0\" encoding=\"utf-8\" standalone=\"no\"?>\r\n<!DOCTYPE svg PUBLIC \"-//W3C//DTD SVG 1.1//EN\"\r\n  \"http://www.w3.org/Graphics/SVG/1.1/DTD/svg11.dtd\">\r\n<!-- Created with matplotlib (https://matplotlib.org/) -->\r\n<svg height=\"263.63625pt\" version=\"1.1\" viewBox=\"0 0 362.5625 263.63625\" width=\"362.5625pt\" xmlns=\"http://www.w3.org/2000/svg\" xmlns:xlink=\"http://www.w3.org/1999/xlink\">\r\n <defs>\r\n  <style type=\"text/css\">\r\n*{stroke-linecap:butt;stroke-linejoin:round;}\r\n  </style>\r\n </defs>\r\n <g id=\"figure_1\">\r\n  <g id=\"patch_1\">\r\n   <path d=\"M 0 263.63625 \r\nL 362.5625 263.63625 \r\nL 362.5625 0 \r\nL 0 0 \r\nz\r\n\" style=\"fill:none;\"/>\r\n  </g>\r\n  <g id=\"axes_1\">\r\n   <g id=\"patch_2\">\r\n    <path d=\"M 20.5625 239.758125 \r\nL 355.3625 239.758125 \r\nL 355.3625 22.318125 \r\nL 20.5625 22.318125 \r\nz\r\n\" style=\"fill:#ffffff;\"/>\r\n   </g>\r\n   <g id=\"matplotlib.axis_1\">\r\n    <g id=\"xtick_1\">\r\n     <g id=\"line2d_1\">\r\n      <defs>\r\n       <path d=\"M 0 0 \r\nL 0 3.5 \r\n\" id=\"m8e7bcddbb6\" style=\"stroke:#000000;stroke-width:0.8;\"/>\r\n      </defs>\r\n      <g>\r\n       <use style=\"stroke:#000000;stroke-width:0.8;\" x=\"35.780682\" xlink:href=\"#m8e7bcddbb6\" y=\"239.758125\"/>\r\n      </g>\r\n     </g>\r\n     <g id=\"text_1\">\r\n      <!-- 0 -->\r\n      <defs>\r\n       <path d=\"M 31.78125 66.40625 \r\nQ 24.171875 66.40625 20.328125 58.90625 \r\nQ 16.5 51.421875 16.5 36.375 \r\nQ 16.5 21.390625 20.328125 13.890625 \r\nQ 24.171875 6.390625 31.78125 6.390625 \r\nQ 39.453125 6.390625 43.28125 13.890625 \r\nQ 47.125 21.390625 47.125 36.375 \r\nQ 47.125 51.421875 43.28125 58.90625 \r\nQ 39.453125 66.40625 31.78125 66.40625 \r\nz\r\nM 31.78125 74.21875 \r\nQ 44.046875 74.21875 50.515625 64.515625 \r\nQ 56.984375 54.828125 56.984375 36.375 \r\nQ 56.984375 17.96875 50.515625 8.265625 \r\nQ 44.046875 -1.421875 31.78125 -1.421875 \r\nQ 19.53125 -1.421875 13.0625 8.265625 \r\nQ 6.59375 17.96875 6.59375 36.375 \r\nQ 6.59375 54.828125 13.0625 64.515625 \r\nQ 19.53125 74.21875 31.78125 74.21875 \r\nz\r\n\" id=\"DejaVuSans-48\"/>\r\n      </defs>\r\n      <g transform=\"translate(32.599432 254.356563)scale(0.1 -0.1)\">\r\n       <use xlink:href=\"#DejaVuSans-48\"/>\r\n      </g>\r\n     </g>\r\n    </g>\r\n    <g id=\"xtick_2\">\r\n     <g id=\"line2d_2\">\r\n      <g>\r\n       <use style=\"stroke:#000000;stroke-width:0.8;\" x=\"73.921488\" xlink:href=\"#m8e7bcddbb6\" y=\"239.758125\"/>\r\n      </g>\r\n     </g>\r\n     <g id=\"text_2\">\r\n      <!-- 50 -->\r\n      <defs>\r\n       <path d=\"M 10.796875 72.90625 \r\nL 49.515625 72.90625 \r\nL 49.515625 64.59375 \r\nL 19.828125 64.59375 \r\nL 19.828125 46.734375 \r\nQ 21.96875 47.46875 24.109375 47.828125 \r\nQ 26.265625 48.1875 28.421875 48.1875 \r\nQ 40.625 48.1875 47.75 41.5 \r\nQ 54.890625 34.8125 54.890625 23.390625 \r\nQ 54.890625 11.625 47.5625 5.09375 \r\nQ 40.234375 -1.421875 26.90625 -1.421875 \r\nQ 22.3125 -1.421875 17.546875 -0.640625 \r\nQ 12.796875 0.140625 7.71875 1.703125 \r\nL 7.71875 11.625 \r\nQ 12.109375 9.234375 16.796875 8.0625 \r\nQ 21.484375 6.890625 26.703125 6.890625 \r\nQ 35.15625 6.890625 40.078125 11.328125 \r\nQ 45.015625 15.765625 45.015625 23.390625 \r\nQ 45.015625 31 40.078125 35.4375 \r\nQ 35.15625 39.890625 26.703125 39.890625 \r\nQ 22.75 39.890625 18.8125 39.015625 \r\nQ 14.890625 38.140625 10.796875 36.28125 \r\nz\r\n\" id=\"DejaVuSans-53\"/>\r\n      </defs>\r\n      <g transform=\"translate(67.558988 254.356563)scale(0.1 -0.1)\">\r\n       <use xlink:href=\"#DejaVuSans-53\"/>\r\n       <use x=\"63.623047\" xlink:href=\"#DejaVuSans-48\"/>\r\n      </g>\r\n     </g>\r\n    </g>\r\n    <g id=\"xtick_3\">\r\n     <g id=\"line2d_3\">\r\n      <g>\r\n       <use style=\"stroke:#000000;stroke-width:0.8;\" x=\"112.062295\" xlink:href=\"#m8e7bcddbb6\" y=\"239.758125\"/>\r\n      </g>\r\n     </g>\r\n     <g id=\"text_3\">\r\n      <!-- 100 -->\r\n      <defs>\r\n       <path d=\"M 12.40625 8.296875 \r\nL 28.515625 8.296875 \r\nL 28.515625 63.921875 \r\nL 10.984375 60.40625 \r\nL 10.984375 69.390625 \r\nL 28.421875 72.90625 \r\nL 38.28125 72.90625 \r\nL 38.28125 8.296875 \r\nL 54.390625 8.296875 \r\nL 54.390625 0 \r\nL 12.40625 0 \r\nz\r\n\" id=\"DejaVuSans-49\"/>\r\n      </defs>\r\n      <g transform=\"translate(102.518545 254.356563)scale(0.1 -0.1)\">\r\n       <use xlink:href=\"#DejaVuSans-49\"/>\r\n       <use x=\"63.623047\" xlink:href=\"#DejaVuSans-48\"/>\r\n       <use x=\"127.246094\" xlink:href=\"#DejaVuSans-48\"/>\r\n      </g>\r\n     </g>\r\n    </g>\r\n    <g id=\"xtick_4\">\r\n     <g id=\"line2d_4\">\r\n      <g>\r\n       <use style=\"stroke:#000000;stroke-width:0.8;\" x=\"150.203102\" xlink:href=\"#m8e7bcddbb6\" y=\"239.758125\"/>\r\n      </g>\r\n     </g>\r\n     <g id=\"text_4\">\r\n      <!-- 150 -->\r\n      <g transform=\"translate(140.659352 254.356563)scale(0.1 -0.1)\">\r\n       <use xlink:href=\"#DejaVuSans-49\"/>\r\n       <use x=\"63.623047\" xlink:href=\"#DejaVuSans-53\"/>\r\n       <use x=\"127.246094\" xlink:href=\"#DejaVuSans-48\"/>\r\n      </g>\r\n     </g>\r\n    </g>\r\n    <g id=\"xtick_5\">\r\n     <g id=\"line2d_5\">\r\n      <g>\r\n       <use style=\"stroke:#000000;stroke-width:0.8;\" x=\"188.343908\" xlink:href=\"#m8e7bcddbb6\" y=\"239.758125\"/>\r\n      </g>\r\n     </g>\r\n     <g id=\"text_5\">\r\n      <!-- 200 -->\r\n      <defs>\r\n       <path d=\"M 19.1875 8.296875 \r\nL 53.609375 8.296875 \r\nL 53.609375 0 \r\nL 7.328125 0 \r\nL 7.328125 8.296875 \r\nQ 12.9375 14.109375 22.625 23.890625 \r\nQ 32.328125 33.6875 34.8125 36.53125 \r\nQ 39.546875 41.84375 41.421875 45.53125 \r\nQ 43.3125 49.21875 43.3125 52.78125 \r\nQ 43.3125 58.59375 39.234375 62.25 \r\nQ 35.15625 65.921875 28.609375 65.921875 \r\nQ 23.96875 65.921875 18.8125 64.3125 \r\nQ 13.671875 62.703125 7.8125 59.421875 \r\nL 7.8125 69.390625 \r\nQ 13.765625 71.78125 18.9375 73 \r\nQ 24.125 74.21875 28.421875 74.21875 \r\nQ 39.75 74.21875 46.484375 68.546875 \r\nQ 53.21875 62.890625 53.21875 53.421875 \r\nQ 53.21875 48.921875 51.53125 44.890625 \r\nQ 49.859375 40.875 45.40625 35.40625 \r\nQ 44.1875 33.984375 37.640625 27.21875 \r\nQ 31.109375 20.453125 19.1875 8.296875 \r\nz\r\n\" id=\"DejaVuSans-50\"/>\r\n      </defs>\r\n      <g transform=\"translate(178.800158 254.356563)scale(0.1 -0.1)\">\r\n       <use xlink:href=\"#DejaVuSans-50\"/>\r\n       <use x=\"63.623047\" xlink:href=\"#DejaVuSans-48\"/>\r\n       <use x=\"127.246094\" xlink:href=\"#DejaVuSans-48\"/>\r\n      </g>\r\n     </g>\r\n    </g>\r\n    <g id=\"xtick_6\">\r\n     <g id=\"line2d_6\">\r\n      <g>\r\n       <use style=\"stroke:#000000;stroke-width:0.8;\" x=\"226.484715\" xlink:href=\"#m8e7bcddbb6\" y=\"239.758125\"/>\r\n      </g>\r\n     </g>\r\n     <g id=\"text_6\">\r\n      <!-- 250 -->\r\n      <g transform=\"translate(216.940965 254.356563)scale(0.1 -0.1)\">\r\n       <use xlink:href=\"#DejaVuSans-50\"/>\r\n       <use x=\"63.623047\" xlink:href=\"#DejaVuSans-53\"/>\r\n       <use x=\"127.246094\" xlink:href=\"#DejaVuSans-48\"/>\r\n      </g>\r\n     </g>\r\n    </g>\r\n    <g id=\"xtick_7\">\r\n     <g id=\"line2d_7\">\r\n      <g>\r\n       <use style=\"stroke:#000000;stroke-width:0.8;\" x=\"264.625521\" xlink:href=\"#m8e7bcddbb6\" y=\"239.758125\"/>\r\n      </g>\r\n     </g>\r\n     <g id=\"text_7\">\r\n      <!-- 300 -->\r\n      <defs>\r\n       <path d=\"M 40.578125 39.3125 \r\nQ 47.65625 37.796875 51.625 33 \r\nQ 55.609375 28.21875 55.609375 21.1875 \r\nQ 55.609375 10.40625 48.1875 4.484375 \r\nQ 40.765625 -1.421875 27.09375 -1.421875 \r\nQ 22.515625 -1.421875 17.65625 -0.515625 \r\nQ 12.796875 0.390625 7.625 2.203125 \r\nL 7.625 11.71875 \r\nQ 11.71875 9.328125 16.59375 8.109375 \r\nQ 21.484375 6.890625 26.8125 6.890625 \r\nQ 36.078125 6.890625 40.9375 10.546875 \r\nQ 45.796875 14.203125 45.796875 21.1875 \r\nQ 45.796875 27.640625 41.28125 31.265625 \r\nQ 36.765625 34.90625 28.71875 34.90625 \r\nL 20.21875 34.90625 \r\nL 20.21875 43.015625 \r\nL 29.109375 43.015625 \r\nQ 36.375 43.015625 40.234375 45.921875 \r\nQ 44.09375 48.828125 44.09375 54.296875 \r\nQ 44.09375 59.90625 40.109375 62.90625 \r\nQ 36.140625 65.921875 28.71875 65.921875 \r\nQ 24.65625 65.921875 20.015625 65.03125 \r\nQ 15.375 64.15625 9.8125 62.3125 \r\nL 9.8125 71.09375 \r\nQ 15.4375 72.65625 20.34375 73.4375 \r\nQ 25.25 74.21875 29.59375 74.21875 \r\nQ 40.828125 74.21875 47.359375 69.109375 \r\nQ 53.90625 64.015625 53.90625 55.328125 \r\nQ 53.90625 49.265625 50.4375 45.09375 \r\nQ 46.96875 40.921875 40.578125 39.3125 \r\nz\r\n\" id=\"DejaVuSans-51\"/>\r\n      </defs>\r\n      <g transform=\"translate(255.081771 254.356563)scale(0.1 -0.1)\">\r\n       <use xlink:href=\"#DejaVuSans-51\"/>\r\n       <use x=\"63.623047\" xlink:href=\"#DejaVuSans-48\"/>\r\n       <use x=\"127.246094\" xlink:href=\"#DejaVuSans-48\"/>\r\n      </g>\r\n     </g>\r\n    </g>\r\n    <g id=\"xtick_8\">\r\n     <g id=\"line2d_8\">\r\n      <g>\r\n       <use style=\"stroke:#000000;stroke-width:0.8;\" x=\"302.766328\" xlink:href=\"#m8e7bcddbb6\" y=\"239.758125\"/>\r\n      </g>\r\n     </g>\r\n     <g id=\"text_8\">\r\n      <!-- 350 -->\r\n      <g transform=\"translate(293.222578 254.356563)scale(0.1 -0.1)\">\r\n       <use xlink:href=\"#DejaVuSans-51\"/>\r\n       <use x=\"63.623047\" xlink:href=\"#DejaVuSans-53\"/>\r\n       <use x=\"127.246094\" xlink:href=\"#DejaVuSans-48\"/>\r\n      </g>\r\n     </g>\r\n    </g>\r\n    <g id=\"xtick_9\">\r\n     <g id=\"line2d_9\">\r\n      <g>\r\n       <use style=\"stroke:#000000;stroke-width:0.8;\" x=\"340.907134\" xlink:href=\"#m8e7bcddbb6\" y=\"239.758125\"/>\r\n      </g>\r\n     </g>\r\n     <g id=\"text_9\">\r\n      <!-- 400 -->\r\n      <defs>\r\n       <path d=\"M 37.796875 64.3125 \r\nL 12.890625 25.390625 \r\nL 37.796875 25.390625 \r\nz\r\nM 35.203125 72.90625 \r\nL 47.609375 72.90625 \r\nL 47.609375 25.390625 \r\nL 58.015625 25.390625 \r\nL 58.015625 17.1875 \r\nL 47.609375 17.1875 \r\nL 47.609375 0 \r\nL 37.796875 0 \r\nL 37.796875 17.1875 \r\nL 4.890625 17.1875 \r\nL 4.890625 26.703125 \r\nz\r\n\" id=\"DejaVuSans-52\"/>\r\n      </defs>\r\n      <g transform=\"translate(331.363384 254.356563)scale(0.1 -0.1)\">\r\n       <use xlink:href=\"#DejaVuSans-52\"/>\r\n       <use x=\"63.623047\" xlink:href=\"#DejaVuSans-48\"/>\r\n       <use x=\"127.246094\" xlink:href=\"#DejaVuSans-48\"/>\r\n      </g>\r\n     </g>\r\n    </g>\r\n   </g>\r\n   <g id=\"matplotlib.axis_2\">\r\n    <g id=\"ytick_1\">\r\n     <g id=\"line2d_10\">\r\n      <defs>\r\n       <path d=\"M 0 0 \r\nL -3.5 0 \r\n\" id=\"ma83ba59e6f\" style=\"stroke:#000000;stroke-width:0.8;\"/>\r\n      </defs>\r\n      <g>\r\n       <use style=\"stroke:#000000;stroke-width:0.8;\" x=\"20.5625\" xlink:href=\"#ma83ba59e6f\" y=\"205.027556\"/>\r\n      </g>\r\n     </g>\r\n     <g id=\"text_10\">\r\n      <!-- 1 -->\r\n      <g transform=\"translate(7.2 208.826775)scale(0.1 -0.1)\">\r\n       <use xlink:href=\"#DejaVuSans-49\"/>\r\n      </g>\r\n     </g>\r\n    </g>\r\n    <g id=\"ytick_2\">\r\n     <g id=\"line2d_11\">\r\n      <g>\r\n       <use style=\"stroke:#000000;stroke-width:0.8;\" x=\"20.5625\" xlink:href=\"#ma83ba59e6f\" y=\"169.305323\"/>\r\n      </g>\r\n     </g>\r\n     <g id=\"text_11\">\r\n      <!-- 2 -->\r\n      <g transform=\"translate(7.2 173.104542)scale(0.1 -0.1)\">\r\n       <use xlink:href=\"#DejaVuSans-50\"/>\r\n      </g>\r\n     </g>\r\n    </g>\r\n    <g id=\"ytick_3\">\r\n     <g id=\"line2d_12\">\r\n      <g>\r\n       <use style=\"stroke:#000000;stroke-width:0.8;\" x=\"20.5625\" xlink:href=\"#ma83ba59e6f\" y=\"133.58309\"/>\r\n      </g>\r\n     </g>\r\n     <g id=\"text_12\">\r\n      <!-- 3 -->\r\n      <g transform=\"translate(7.2 137.382309)scale(0.1 -0.1)\">\r\n       <use xlink:href=\"#DejaVuSans-51\"/>\r\n      </g>\r\n     </g>\r\n    </g>\r\n    <g id=\"ytick_4\">\r\n     <g id=\"line2d_13\">\r\n      <g>\r\n       <use style=\"stroke:#000000;stroke-width:0.8;\" x=\"20.5625\" xlink:href=\"#ma83ba59e6f\" y=\"97.860857\"/>\r\n      </g>\r\n     </g>\r\n     <g id=\"text_13\">\r\n      <!-- 4 -->\r\n      <g transform=\"translate(7.2 101.660076)scale(0.1 -0.1)\">\r\n       <use xlink:href=\"#DejaVuSans-52\"/>\r\n      </g>\r\n     </g>\r\n    </g>\r\n    <g id=\"ytick_5\">\r\n     <g id=\"line2d_14\">\r\n      <g>\r\n       <use style=\"stroke:#000000;stroke-width:0.8;\" x=\"20.5625\" xlink:href=\"#ma83ba59e6f\" y=\"62.138624\"/>\r\n      </g>\r\n     </g>\r\n     <g id=\"text_14\">\r\n      <!-- 5 -->\r\n      <g transform=\"translate(7.2 65.937842)scale(0.1 -0.1)\">\r\n       <use xlink:href=\"#DejaVuSans-53\"/>\r\n      </g>\r\n     </g>\r\n    </g>\r\n    <g id=\"ytick_6\">\r\n     <g id=\"line2d_15\">\r\n      <g>\r\n       <use style=\"stroke:#000000;stroke-width:0.8;\" x=\"20.5625\" xlink:href=\"#ma83ba59e6f\" y=\"26.416391\"/>\r\n      </g>\r\n     </g>\r\n     <g id=\"text_15\">\r\n      <!-- 6 -->\r\n      <defs>\r\n       <path d=\"M 33.015625 40.375 \r\nQ 26.375 40.375 22.484375 35.828125 \r\nQ 18.609375 31.296875 18.609375 23.390625 \r\nQ 18.609375 15.53125 22.484375 10.953125 \r\nQ 26.375 6.390625 33.015625 6.390625 \r\nQ 39.65625 6.390625 43.53125 10.953125 \r\nQ 47.40625 15.53125 47.40625 23.390625 \r\nQ 47.40625 31.296875 43.53125 35.828125 \r\nQ 39.65625 40.375 33.015625 40.375 \r\nz\r\nM 52.59375 71.296875 \r\nL 52.59375 62.3125 \r\nQ 48.875 64.0625 45.09375 64.984375 \r\nQ 41.3125 65.921875 37.59375 65.921875 \r\nQ 27.828125 65.921875 22.671875 59.328125 \r\nQ 17.53125 52.734375 16.796875 39.40625 \r\nQ 19.671875 43.65625 24.015625 45.921875 \r\nQ 28.375 48.1875 33.59375 48.1875 \r\nQ 44.578125 48.1875 50.953125 41.515625 \r\nQ 57.328125 34.859375 57.328125 23.390625 \r\nQ 57.328125 12.15625 50.6875 5.359375 \r\nQ 44.046875 -1.421875 33.015625 -1.421875 \r\nQ 20.359375 -1.421875 13.671875 8.265625 \r\nQ 6.984375 17.96875 6.984375 36.375 \r\nQ 6.984375 53.65625 15.1875 63.9375 \r\nQ 23.390625 74.21875 37.203125 74.21875 \r\nQ 40.921875 74.21875 44.703125 73.484375 \r\nQ 48.484375 72.75 52.59375 71.296875 \r\nz\r\n\" id=\"DejaVuSans-54\"/>\r\n      </defs>\r\n      <g transform=\"translate(7.2 30.215609)scale(0.1 -0.1)\">\r\n       <use xlink:href=\"#DejaVuSans-54\"/>\r\n      </g>\r\n     </g>\r\n    </g>\r\n   </g>\r\n   <g id=\"line2d_16\">\r\n    <path clip-path=\"url(#pde14a15e65)\" d=\"M 35.780682 32.201761 \r\nL 36.543498 95.353317 \r\nL 37.306314 88.25302 \r\nL 38.06913 135.509721 \r\nL 38.831946 40.57902 \r\nL 39.594762 101.206074 \r\nL 40.357579 94.466737 \r\nL 41.120395 139.819723 \r\nL 41.883211 48.950793 \r\nL 42.646027 107.054685 \r\nL 43.408843 100.675162 \r\nL 44.171659 144.125729 \r\nL 44.934475 57.315282 \r\nL 45.697292 112.897787 \r\nL 46.460108 106.87659 \r\nL 47.222924 148.426406 \r\nL 47.98574 65.670102 \r\nL 48.748556 118.733561 \r\nL 49.511372 113.068763 \r\nL 50.274188 152.719974 \r\nL 51.037004 74.012087 \r\nL 51.799821 124.559596 \r\nL 52.562637 119.248704 \r\nL 53.325453 157.004065 \r\nL 54.088269 82.337047 \r\nL 54.851085 130.372686 \r\nL 55.613901 125.412488 \r\nL 56.376717 161.275534 \r\nL 57.139533 90.63944 \r\nL 57.90235 136.168585 \r\nL 58.665166 131.554954 \r\nL 59.427982 165.530212 \r\nL 60.190798 98.911962 \r\nL 60.953614 141.941677 \r\nL 61.71643 137.669336 \r\nL 62.479246 169.762592 \r\nL 63.242063 107.145018 \r\nL 64.004879 147.684568 \r\nL 64.767695 143.746807 \r\nL 65.530511 173.965435 \r\nL 66.293327 115.326066 \r\nL 67.056143 153.387569 \r\nL 67.818959 149.775917 \r\nL 68.581775 178.129292 \r\nL 69.344592 123.438833 \r\nL 70.107408 159.038068 \r\nL 70.870224 155.741934 \r\nL 71.63304 182.241928 \r\nL 72.395856 131.462389 \r\nL 73.158672 164.61981 \r\nL 73.921488 161.626113 \r\nL 74.684305 186.287698 \r\nL 75.447121 139.37016 \r\nL 76.209937 170.112108 \r\nL 76.972753 167.404941 \r\nL 77.735569 190.246904 \r\nL 78.498385 147.128951 \r\nL 79.261201 175.489084 \r\nL 80.024017 173.049492 \r\nL 80.786834 194.095261 \r\nL 81.54965 154.698197 \r\nL 82.312466 180.719088 \r\nL 83.075282 178.525068 \r\nL 83.838098 197.803653 \r\nL 84.600914 162.02973 \r\nL 85.36373 185.764552 \r\nL 86.126546 183.791403 \r\nL 86.889363 201.338425 \r\nL 87.652179 169.068469 \r\nL 88.414995 190.582615 \r\nL 89.177811 188.803771 \r\nL 89.940627 204.662531 \r\nL 90.703443 175.754463 \r\nL 91.466259 195.126842 \r\nL 92.229076 193.515261 \r\nL 92.991892 207.737769 \r\nL 93.754708 182.026585 \r\nL 94.517524 199.350314 \r\nL 95.28034 197.88035 \r\nL 96.043156 210.528182 \r\nL 96.805972 187.827826 \r\nL 97.568788 203.209985 \r\nL 98.331605 201.859476 \r\nL 99.094421 213.00427 \r\nL 99.857237 193.111522 \r\nL 100.620053 206.671752 \r\nL 101.382869 205.423885 \r\nL 102.145685 215.14726 \r\nL 102.908501 197.847263 \r\nL 103.671317 209.715204 \r\nL 104.434134 208.559613 \r\nL 105.19695 216.952316 \r\nL 105.959766 202.024963 \r\nL 106.722582 212.336769 \r\nL 107.485398 211.269515 \r\nL 108.248214 218.429716 \r\nL 109.01103 205.655926 \r\nL 109.773847 214.550325 \r\nL 110.536663 213.572736 \r\nL 111.299479 219.60356 \r\nL 112.062295 208.770616 \r\nL 112.825111 216.385079 \r\nL 113.587927 215.501788 \r\nL 114.350743 220.508383 \r\nL 115.113559 211.413922 \r\nL 115.876376 217.881369 \r\nL 116.639192 217.098134 \r\nL 117.402008 221.184648 \r\nL 118.164824 213.639279 \r\nL 118.92764 219.085581 \r\nL 119.690456 218.407394 \r\nL 120.453272 221.674286 \r\nL 121.216089 215.503039 \r\nL 121.978905 220.045366 \r\nL 122.741721 219.475186 \r\nL 123.504537 222.017109 \r\nL 124.267353 217.060027 \r\nL 125.030169 220.805932 \r\nL 125.792985 220.344104 \r\nL 126.555801 222.248489 \r\nL 127.318618 218.360607 \r\nL 128.081434 221.407709 \r\nL 128.84425 221.051941 \r\nL 129.607066 222.398249 \r\nL 130.369882 219.449156 \r\nL 131.132698 221.885258 \r\nL 131.895514 221.63097 \r\nL 132.65833 222.490497 \r\nL 133.421147 220.363613 \r\nL 134.183963 222.267106 \r\nL 134.946779 222.107961 \r\nL 135.709595 222.544039 \r\nL 136.472411 221.135712 \r\nL 137.235227 222.576174 \r\nL 137.998043 222.504641 \r\nL 138.76086 222.57311 \r\nL 139.523676 221.791603 \r\nL 140.286492 222.830489 \r\nL 141.049308 222.838363 \r\nL 142.57494 222.352617 \r\nL 143.337756 223.043996 \r\nL 144.100572 223.122825 \r\nL 144.863389 222.596735 \r\nL 145.626205 222.836044 \r\nL 146.389021 223.227335 \r\nL 147.151837 223.368746 \r\nL 147.914653 222.603971 \r\nL 148.677469 223.255854 \r\nL 150.203102 223.584471 \r\nL 150.965918 222.613351 \r\nL 151.728734 223.623323 \r\nL 152.49155 223.533609 \r\nL 153.254366 223.77647 \r\nL 154.017182 222.627067 \r\nL 154.779998 223.947557 \r\nL 155.542814 223.666998 \r\nL 156.305631 223.94975 \r\nL 157.068447 222.646394 \r\nL 157.831263 224.235923 \r\nL 158.594079 223.791976 \r\nL 159.356895 224.108183 \r\nL 160.119711 222.671957 \r\nL 160.882527 224.4944 \r\nL 161.645343 223.910928 \r\nL 162.40816 224.254765 \r\nL 163.170976 222.70393 \r\nL 163.933792 224.727852 \r\nL 164.696608 224.025576 \r\nL 165.459424 224.391816 \r\nL 166.22224 222.742192 \r\nL 166.985056 224.940255 \r\nL 167.747873 224.137151 \r\nL 168.510689 224.521136 \r\nL 169.273505 222.786426 \r\nL 170.036321 225.13487 \r\nL 170.799137 224.246523 \r\nL 171.561953 224.644128 \r\nL 172.324769 222.836202 \r\nL 173.087585 225.314384 \r\nL 173.850402 224.354294 \r\nL 174.613218 224.761884 \r\nL 175.376034 222.891028 \r\nL 176.13885 225.481019 \r\nL 176.901666 224.460877 \r\nL 177.664482 224.875261 \r\nL 178.427298 222.95039 \r\nL 179.190114 225.636621 \r\nL 179.952931 224.566543 \r\nL 180.715747 224.984934 \r\nL 181.478563 223.013775 \r\nL 182.241379 225.782728 \r\nL 183.004195 224.671464 \r\nL 183.767011 225.091436 \r\nL 184.529827 223.08069 \r\nL 185.292644 225.920629 \r\nL 186.05546 224.775743 \r\nL 186.818276 225.195191 \r\nL 187.581092 223.15067 \r\nL 188.343908 226.051407 \r\nL 189.106724 224.879432 \r\nL 189.86954 225.296536 \r\nL 190.632356 223.223284 \r\nL 191.395173 226.175974 \r\nL 192.157989 224.982553 \r\nL 192.920805 225.395745 \r\nL 193.683621 223.298138 \r\nL 194.446437 226.295102 \r\nL 195.209253 225.085103 \r\nL 195.972069 225.493037 \r\nL 196.734886 223.374874 \r\nL 197.497702 226.409447 \r\nL 198.260518 225.187067 \r\nL 199.023334 225.588591 \r\nL 199.78615 223.453173 \r\nL 200.548966 226.519564 \r\nL 201.311782 225.288421 \r\nL 202.074598 225.682556 \r\nL 202.837415 223.532747 \r\nL 203.600231 226.625932 \r\nL 204.363047 225.389138 \r\nL 205.125863 225.775052 \r\nL 205.888679 223.613343 \r\nL 206.651495 226.728956 \r\nL 207.414311 225.489188 \r\nL 208.177127 225.866181 \r\nL 208.939944 223.694736 \r\nL 209.70276 226.828987 \r\nL 210.465576 225.588543 \r\nL 211.228392 225.956028 \r\nL 211.991208 223.776729 \r\nL 212.754024 226.926323 \r\nL 213.51684 225.687176 \r\nL 214.279657 226.044665 \r\nL 215.042473 223.859147 \r\nL 215.805289 227.021226 \r\nL 216.568105 225.785062 \r\nL 217.330921 226.132153 \r\nL 218.093737 223.94184 \r\nL 218.856553 227.113917 \r\nL 219.619369 225.88218 \r\nL 220.382186 226.218545 \r\nL 221.145002 224.024675 \r\nL 221.907818 227.204591 \r\nL 222.670634 225.978509 \r\nL 223.43345 226.303887 \r\nL 224.196266 224.107538 \r\nL 224.959082 227.293416 \r\nL 225.721898 226.074033 \r\nL 226.484715 226.388219 \r\nL 227.247531 224.190328 \r\nL 228.010347 227.380537 \r\nL 228.773163 226.16874 \r\nL 229.535979 226.471575 \r\nL 230.298795 224.27296 \r\nL 231.061611 227.466083 \r\nL 231.824428 226.262619 \r\nL 232.587244 226.553988 \r\nL 233.35006 224.355359 \r\nL 234.112876 227.550164 \r\nL 234.875692 226.355661 \r\nL 235.638508 226.635485 \r\nL 236.401324 224.437461 \r\nL 237.16414 227.632878 \r\nL 237.926957 226.44786 \r\nL 238.689773 226.716092 \r\nL 239.452589 224.519213 \r\nL 240.215405 227.71431 \r\nL 240.978221 226.539212 \r\nL 241.741037 226.795831 \r\nL 242.503853 224.600566 \r\nL 243.26667 227.794536 \r\nL 244.029486 226.629714 \r\nL 244.792302 226.874722 \r\nL 245.555118 224.681482 \r\nL 246.317934 227.873621 \r\nL 247.08075 226.719366 \r\nL 247.843566 226.952786 \r\nL 248.606382 224.761927 \r\nL 249.369199 227.951624 \r\nL 250.132015 226.808168 \r\nL 250.894831 227.030039 \r\nL 251.657647 224.841872 \r\nL 252.420463 228.028598 \r\nL 253.183279 226.896123 \r\nL 253.946095 227.106498 \r\nL 254.708911 224.921294 \r\nL 255.471728 228.104588 \r\nL 256.234544 226.983233 \r\nL 256.99736 227.182179 \r\nL 257.760176 225.000173 \r\nL 258.522992 228.179635 \r\nL 259.285808 227.069503 \r\nL 260.048624 227.257096 \r\nL 260.811441 225.078494 \r\nL 261.574257 228.253776 \r\nL 262.337073 227.154936 \r\nL 263.099889 227.331262 \r\nL 263.862705 225.156242 \r\nL 264.625521 228.327045 \r\nL 265.388337 227.239539 \r\nL 266.151153 227.40469 \r\nL 266.91397 225.233409 \r\nL 267.676786 228.399471 \r\nL 268.439602 227.323317 \r\nL 269.202418 227.477392 \r\nL 269.965234 225.309985 \r\nL 270.72805 228.471082 \r\nL 271.490866 227.406277 \r\nL 272.253683 227.549381 \r\nL 273.016499 225.385965 \r\nL 273.779315 228.541901 \r\nL 274.542131 227.488426 \r\nL 275.304947 227.620666 \r\nL 276.067763 225.461344 \r\nL 276.830579 228.611951 \r\nL 277.593395 227.569771 \r\nL 278.356212 227.69126 \r\nL 279.119028 225.536119 \r\nL 279.881844 228.681252 \r\nL 280.64466 227.650319 \r\nL 281.407476 227.761171 \r\nL 282.170292 225.610289 \r\nL 282.933108 228.749823 \r\nL 283.695924 227.730079 \r\nL 284.458741 227.830411 \r\nL 285.221557 225.683854 \r\nL 285.984373 228.817682 \r\nL 286.747189 227.809058 \r\nL 287.510005 227.898988 \r\nL 288.272821 225.756813 \r\nL 289.035637 228.884843 \r\nL 289.798454 227.887264 \r\nL 290.56127 227.966911 \r\nL 291.324086 225.829168 \r\nL 292.086902 228.951323 \r\nL 292.849718 227.964707 \r\nL 293.612534 228.034191 \r\nL 294.37535 225.900922 \r\nL 295.138166 229.017135 \r\nL 295.900983 228.041393 \r\nL 296.663799 228.100836 \r\nL 297.426615 225.972076 \r\nL 298.189431 229.082291 \r\nL 298.952247 228.117332 \r\nL 299.715063 228.166853 \r\nL 300.477879 226.042634 \r\nL 301.240695 229.146805 \r\nL 302.003512 228.192531 \r\nL 302.766328 228.232253 \r\nL 303.529144 226.112599 \r\nL 304.29196 229.210686 \r\nL 305.054776 228.267 \r\nL 305.817592 228.297042 \r\nL 306.580408 226.181975 \r\nL 307.343225 229.273948 \r\nL 308.106041 228.340746 \r\nL 308.868857 228.361228 \r\nL 309.631673 226.250767 \r\nL 310.394489 229.336599 \r\nL 311.157305 228.413779 \r\nL 311.920121 228.42482 \r\nL 312.682937 226.318979 \r\nL 313.445754 229.398649 \r\nL 314.20857 228.486105 \r\nL 314.971386 228.487825 \r\nL 315.734202 226.386616 \r\nL 316.497018 229.460108 \r\nL 317.259834 228.557735 \r\nL 318.02265 228.55025 \r\nL 318.785467 226.453682 \r\nL 319.548283 229.520986 \r\nL 320.311099 228.628676 \r\nL 321.073915 228.612103 \r\nL 321.836731 226.520184 \r\nL 322.599547 229.581289 \r\nL 323.362363 228.698935 \r\nL 324.125179 228.673391 \r\nL 324.887996 226.586125 \r\nL 325.650812 229.641028 \r\nL 326.413628 228.768522 \r\nL 327.176444 228.734121 \r\nL 327.93926 226.651511 \r\nL 328.702076 229.70021 \r\nL 329.464892 228.837445 \r\nL 330.227708 228.7943 \r\nL 330.990525 226.716348 \r\nL 331.753341 229.758842 \r\nL 332.516157 228.905711 \r\nL 333.278973 228.853934 \r\nL 334.041789 226.780641 \r\nL 334.804605 229.816933 \r\nL 335.567421 228.973328 \r\nL 336.330238 228.913031 \r\nL 337.093054 226.844395 \r\nL 337.85587 229.874489 \r\nL 338.618686 229.040304 \r\nL 339.381502 228.971596 \r\nL 340.144318 226.907616 \r\nL 340.144318 226.907616 \r\n\" style=\"fill:none;stroke:#1f77b4;stroke-linecap:square;stroke-width:1.5;\"/>\r\n   </g>\r\n   <g id=\"patch_3\">\r\n    <path d=\"M 20.5625 239.758125 \r\nL 20.5625 22.318125 \r\n\" style=\"fill:none;stroke:#000000;stroke-linecap:square;stroke-linejoin:miter;stroke-width:0.8;\"/>\r\n   </g>\r\n   <g id=\"patch_4\">\r\n    <path d=\"M 355.3625 239.758125 \r\nL 355.3625 22.318125 \r\n\" style=\"fill:none;stroke:#000000;stroke-linecap:square;stroke-linejoin:miter;stroke-width:0.8;\"/>\r\n   </g>\r\n   <g id=\"patch_5\">\r\n    <path d=\"M 20.5625 239.758125 \r\nL 355.3625 239.758125 \r\n\" style=\"fill:none;stroke:#000000;stroke-linecap:square;stroke-linejoin:miter;stroke-width:0.8;\"/>\r\n   </g>\r\n   <g id=\"patch_6\">\r\n    <path d=\"M 20.5625 22.318125 \r\nL 355.3625 22.318125 \r\n\" style=\"fill:none;stroke:#000000;stroke-linecap:square;stroke-linejoin:miter;stroke-width:0.8;\"/>\r\n   </g>\r\n   <g id=\"text_16\">\r\n    <!-- Loss -->\r\n    <defs>\r\n     <path d=\"M 9.8125 72.90625 \r\nL 19.671875 72.90625 \r\nL 19.671875 8.296875 \r\nL 55.171875 8.296875 \r\nL 55.171875 0 \r\nL 9.8125 0 \r\nz\r\n\" id=\"DejaVuSans-76\"/>\r\n     <path d=\"M 30.609375 48.390625 \r\nQ 23.390625 48.390625 19.1875 42.75 \r\nQ 14.984375 37.109375 14.984375 27.296875 \r\nQ 14.984375 17.484375 19.15625 11.84375 \r\nQ 23.34375 6.203125 30.609375 6.203125 \r\nQ 37.796875 6.203125 41.984375 11.859375 \r\nQ 46.1875 17.53125 46.1875 27.296875 \r\nQ 46.1875 37.015625 41.984375 42.703125 \r\nQ 37.796875 48.390625 30.609375 48.390625 \r\nz\r\nM 30.609375 56 \r\nQ 42.328125 56 49.015625 48.375 \r\nQ 55.71875 40.765625 55.71875 27.296875 \r\nQ 55.71875 13.875 49.015625 6.21875 \r\nQ 42.328125 -1.421875 30.609375 -1.421875 \r\nQ 18.84375 -1.421875 12.171875 6.21875 \r\nQ 5.515625 13.875 5.515625 27.296875 \r\nQ 5.515625 40.765625 12.171875 48.375 \r\nQ 18.84375 56 30.609375 56 \r\nz\r\n\" id=\"DejaVuSans-111\"/>\r\n     <path d=\"M 44.28125 53.078125 \r\nL 44.28125 44.578125 \r\nQ 40.484375 46.53125 36.375 47.5 \r\nQ 32.28125 48.484375 27.875 48.484375 \r\nQ 21.1875 48.484375 17.84375 46.4375 \r\nQ 14.5 44.390625 14.5 40.28125 \r\nQ 14.5 37.15625 16.890625 35.375 \r\nQ 19.28125 33.59375 26.515625 31.984375 \r\nL 29.59375 31.296875 \r\nQ 39.15625 29.25 43.1875 25.515625 \r\nQ 47.21875 21.78125 47.21875 15.09375 \r\nQ 47.21875 7.46875 41.1875 3.015625 \r\nQ 35.15625 -1.421875 24.609375 -1.421875 \r\nQ 20.21875 -1.421875 15.453125 -0.5625 \r\nQ 10.6875 0.296875 5.421875 2 \r\nL 5.421875 11.28125 \r\nQ 10.40625 8.6875 15.234375 7.390625 \r\nQ 20.0625 6.109375 24.8125 6.109375 \r\nQ 31.15625 6.109375 34.5625 8.28125 \r\nQ 37.984375 10.453125 37.984375 14.40625 \r\nQ 37.984375 18.0625 35.515625 20.015625 \r\nQ 33.0625 21.96875 24.703125 23.78125 \r\nL 21.578125 24.515625 \r\nQ 13.234375 26.265625 9.515625 29.90625 \r\nQ 5.8125 33.546875 5.8125 39.890625 \r\nQ 5.8125 47.609375 11.28125 51.796875 \r\nQ 16.75 56 26.8125 56 \r\nQ 31.78125 56 36.171875 55.265625 \r\nQ 40.578125 54.546875 44.28125 53.078125 \r\nz\r\n\" id=\"DejaVuSans-115\"/>\r\n    </defs>\r\n    <g transform=\"translate(174.697812 16.318125)scale(0.12 -0.12)\">\r\n     <use xlink:href=\"#DejaVuSans-76\"/>\r\n     <use x=\"55.697266\" xlink:href=\"#DejaVuSans-111\"/>\r\n     <use x=\"116.878906\" xlink:href=\"#DejaVuSans-115\"/>\r\n     <use x=\"168.978516\" xlink:href=\"#DejaVuSans-115\"/>\r\n    </g>\r\n   </g>\r\n  </g>\r\n </g>\r\n <defs>\r\n  <clipPath id=\"pde14a15e65\">\r\n   <rect height=\"217.44\" width=\"334.8\" x=\"20.5625\" y=\"22.318125\"/>\r\n  </clipPath>\r\n </defs>\r\n</svg>\r\n",
      "image/png": "[encoded data removed]"
     },
     "metadata": {
      "needs_background": "light"
     }
    },
    {
     "output_type": "stream",
     "name": "stdout",
     "text": "Got 60 / 60 correct 100.00%\n"
    }
   ],
   "source": [
    "model = LR(lr=0.003, batchsize=16, epoch=100, shuffle=True)\n",
    "model.train(x_train, y_train)\n",
    "model.show_picture()\n",
    "preds = model.pred(x_train)\n",
    "check_accuracy(y_train, preds)"
   ]
  },
  {
   "cell_type": "code",
   "execution_count": 79,
   "metadata": {
    "tags": []
   },
   "outputs": [
    {
     "output_type": "stream",
     "name": "stdout",
     "text": "Got 20 / 20 correct 100.00%\n"
    }
   ],
   "source": [
    "preds = model.pred(x_val)\n",
    "check_accuracy(y_val, preds)"
   ]
  },
  {
   "cell_type": "code",
   "execution_count": 80,
   "metadata": {
    "tags": []
   },
   "outputs": [
    {
     "output_type": "stream",
     "name": "stdout",
     "text": "Got 20 / 20 correct 100.00%\n"
    }
   ],
   "source": [
    "preds = model.pred(x_test)\n",
    "check_accuracy(y_test, preds)"
   ]
  },
  {
   "cell_type": "code",
   "execution_count": 11,
   "metadata": {
    "tags": []
   },
   "outputs": [
    {
     "output_type": "stream",
     "name": "stdout",
     "text": "Got 20 / 20 correct 100.00%\nGot 20 / 20 correct 100.00%\n"
    }
   ],
   "source": [
    "from sklearn.linear_model import LogisticRegression\n",
    "clf = LogisticRegression(penalty='none', multi_class='ovr')\n",
    "clf.fit(x_train, y_train)\n",
    "clf_preds = clf.predict(x_val)\n",
    "check_accuracy(y_val, clf_preds)\n",
    "clf_preds = clf.predict(x_test)\n",
    "check_accuracy(y_test, clf_preds)"
   ]
  }
 ],
 "metadata": {
  "kernelspec": {
   "display_name": "Python 3",
   "language": "python",
   "name": "python3"
  },
  "language_info": {
   "codemirror_mode": {
    "name": "ipython",
    "version": 3
   },
   "file_extension": ".py",
   "mimetype": "text/x-python",
   "name": "python",
   "nbconvert_exporter": "python",
   "pygments_lexer": "ipython3",
   "version": "3.7.6-final"
  }
 },
 "nbformat": 4,
 "nbformat_minor": 4
}