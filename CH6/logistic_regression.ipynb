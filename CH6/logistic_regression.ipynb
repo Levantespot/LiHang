{
 "cells": [
  {
   "cell_type": "code",
   "execution_count": 1,
   "metadata": {
    "tags": []
   },
   "outputs": [],
   "source": [
    "import numpy as np\n",
    "import pandas as pd\n",
    "import matplotlib\n",
    "import matplotlib.pyplot as plt\n",
    "# notebook will reload external python modules\n",
    "%load_ext autoreload\n",
    "%autoreload 2"
   ]
  },
  {
   "cell_type": "code",
   "execution_count": 2,
   "metadata": {},
   "outputs": [],
   "source": [
    "# import data\n",
    "data_raw = pd.read_csv('./data/iris.data', header=None)\n",
    "# only 2 classes are needed\n",
    "data = np.array(data_raw)[:100]"
   ]
  },
  {
   "cell_type": "code",
   "execution_count": 3,
   "metadata": {
    "tags": []
   },
   "outputs": [
    {
     "output_type": "stream",
     "name": "stdout",
     "text": "all_num:100, val_num:20, test_num:20, train_num:60\n"
    }
   ],
   "source": [
    "all_num = data.shape[0]\n",
    "val_num = all_num // 5\n",
    "test_num = all_num // 5\n",
    "train_num = all_num - val_num - test_num\n",
    "print('all_num:{}, val_num:{}, test_num:{}, train_num:{}'.format(all_num, val_num, test_num, train_num))"
   ]
  },
  {
   "cell_type": "code",
   "execution_count": 4,
   "metadata": {
    "tags": []
   },
   "outputs": [],
   "source": [
    "# change the label into {-1, 1}\n",
    "for idx in range(all_num):\n",
    "    item = data[idx][4]\n",
    "    if item == 'Iris-setosa':\n",
    "        data[idx][4] = 1\n",
    "    elif item == 'Iris-versicolor':\n",
    "        data[idx][4] = -1\n",
    "    # elif item == 'Iris-virginica':\n",
    "    #     data[idx][4] = 2\n",
    "    else:\n",
    "        raise ValueError(\"data_label unmatched\")\n",
    "\n",
    "# shuffle the set\n",
    "data_shuffled = data.copy().astype(float)\n",
    "np.random.shuffle(data_shuffled)\n",
    "\n",
    "# mask\n",
    "train_mask = range(train_num)\n",
    "val_mask = range(train_num,train_num+val_num)\n",
    "test_mask = range(train_num + val_num, train_num + val_num + test_num)\n",
    "# devide set into 3 parts (train, val, test)\n",
    "x_train = data_shuffled[train_mask, 0:4]\n",
    "y_train = data_shuffled[train_mask, 4]\n",
    "x_val = data_shuffled[val_mask, 0:4]\n",
    "y_val = data_shuffled[val_mask, 4]\n",
    "x_test = data_shuffled[test_mask, 0:4]\n",
    "y_test = data_shuffled[test_mask, 4]"
   ]
  },
  {
   "cell_type": "code",
   "execution_count": 5,
   "metadata": {},
   "outputs": [],
   "source": [
    "# Logistic Regression\n",
    "class LR():\n",
    "    def __init__(self, lr=0.001, batchsize=16, epoch=1, shuffle=False):\n",
    "        self.X = None\n",
    "        self.Y = None\n",
    "        self.w = None\n",
    "        self.batchsize = batchsize\n",
    "        self.epoch = epoch\n",
    "        self.lr = lr # learning rate\n",
    "    def train(self, x, y, mu=0, sigma=1):\n",
    "        '''\n",
    "        x: N x F\n",
    "        y: N in {0,1}\n",
    "        '''\n",
    "        self.w = np.random.normal(mu, sigma, x.shape[1])\n",
    "        iterations = np.ceil(len(x) // self.batchsize)\n",
    "        for e in range(epoch):\n",
    "            for i in range(iterations):\n",
    "\n",
    "    def forward(self, x, y):\n",
    "        loss = np.sum(y * np.dot(self.w, x) - np.log(1 + np.exp(self.w, x)))\n",
    "        cache = (x, y, self.w)\n",
    "        return loss, cache\n",
    "    def backward(self, cache):\n",
    "        x, y, w = cache\n",
    "\n",
    "    def pred(self, x):\n",
    "        preds = []\n",
    "        for item in x:\n",
    "        \n",
    "        return preds"
   ]
  },
  {
   "cell_type": "code",
   "execution_count": 6,
   "metadata": {
    "tags": []
   },
   "outputs": [],
   "source": [
    "def check_accuracy(Y, fx):\n",
    "    num_correct = np.sum(Y == fx)\n",
    "    num_samples = len(Y)\n",
    "    acc = float(num_correct) / num_samples\n",
    "    print('Got {} / {} correct {:.2%}'.format(num_correct, num_samples, acc))"
   ]
  },
  {
   "cell_type": "code",
   "execution_count": 7,
   "metadata": {
    "tags": []
   },
   "outputs": [
    {
     "output_type": "error",
     "ename": "KeyError",
     "evalue": "(1, 2, 2)",
     "traceback": [
      "\u001b[1;31m---------------------------------------------------------------------------\u001b[0m",
      "\u001b[1;31mKeyError\u001b[0m                                  Traceback (most recent call last)",
      "\u001b[1;32m<ipython-input-7-4865060ddb28>\u001b[0m in \u001b[0;36m<module>\u001b[1;34m\u001b[0m\n\u001b[0;32m      1\u001b[0m \u001b[0mmodel\u001b[0m \u001b[1;33m=\u001b[0m \u001b[0mNB\u001b[0m\u001b[1;33m(\u001b[0m\u001b[0mx_train\u001b[0m\u001b[1;33m,\u001b[0m \u001b[0my_train\u001b[0m\u001b[1;33m)\u001b[0m\u001b[1;33m\u001b[0m\u001b[1;33m\u001b[0m\u001b[0m\n\u001b[0;32m      2\u001b[0m \u001b[0mmodel\u001b[0m\u001b[1;33m.\u001b[0m\u001b[0mtrain\u001b[0m\u001b[1;33m(\u001b[0m\u001b[1;33m)\u001b[0m\u001b[1;33m\u001b[0m\u001b[1;33m\u001b[0m\u001b[0m\n\u001b[1;32m----> 3\u001b[1;33m \u001b[0mpreds\u001b[0m \u001b[1;33m=\u001b[0m \u001b[0mmodel\u001b[0m\u001b[1;33m.\u001b[0m\u001b[0mpred\u001b[0m\u001b[1;33m(\u001b[0m\u001b[0mx_val\u001b[0m\u001b[1;33m)\u001b[0m\u001b[1;33m\u001b[0m\u001b[1;33m\u001b[0m\u001b[0m\n\u001b[0m\u001b[0;32m      4\u001b[0m \u001b[0mcheck_accuracy\u001b[0m\u001b[1;33m(\u001b[0m\u001b[0my_val\u001b[0m\u001b[1;33m,\u001b[0m \u001b[0mpreds\u001b[0m\u001b[1;33m)\u001b[0m\u001b[1;33m\u001b[0m\u001b[1;33m\u001b[0m\u001b[0m\n",
      "\u001b[1;32m<ipython-input-5-64edf76a1817>\u001b[0m in \u001b[0;36mpred\u001b[1;34m(self, x)\u001b[0m\n\u001b[0;32m     27\u001b[0m                 \u001b[0mscore\u001b[0m \u001b[1;33m=\u001b[0m \u001b[0mself\u001b[0m\u001b[1;33m.\u001b[0m\u001b[0mp\u001b[0m\u001b[1;33m[\u001b[0m\u001b[0mgoal\u001b[0m\u001b[1;33m]\u001b[0m\u001b[1;33m\u001b[0m\u001b[1;33m\u001b[0m\u001b[0m\n\u001b[0;32m     28\u001b[0m                 \u001b[1;32mfor\u001b[0m \u001b[0midx_a\u001b[0m \u001b[1;32min\u001b[0m \u001b[0mrange\u001b[0m\u001b[1;33m(\u001b[0m\u001b[0mself\u001b[0m\u001b[1;33m.\u001b[0m\u001b[0mA\u001b[0m\u001b[1;33m)\u001b[0m\u001b[1;33m:\u001b[0m\u001b[1;33m\u001b[0m\u001b[1;33m\u001b[0m\u001b[0m\n\u001b[1;32m---> 29\u001b[1;33m                     \u001b[0mscore\u001b[0m \u001b[1;33m=\u001b[0m \u001b[0mscore\u001b[0m \u001b[1;33m*\u001b[0m \u001b[0mself\u001b[0m\u001b[1;33m.\u001b[0m\u001b[0mp_x_y\u001b[0m\u001b[1;33m[\u001b[0m\u001b[1;33m(\u001b[0m\u001b[0midx_a\u001b[0m\u001b[1;33m,\u001b[0m \u001b[0mitem\u001b[0m\u001b[1;33m[\u001b[0m\u001b[0midx_a\u001b[0m\u001b[1;33m]\u001b[0m\u001b[1;33m,\u001b[0m \u001b[0mgoal\u001b[0m\u001b[1;33m)\u001b[0m\u001b[1;33m]\u001b[0m\u001b[1;33m\u001b[0m\u001b[1;33m\u001b[0m\u001b[0m\n\u001b[0m\u001b[0;32m     30\u001b[0m                 \u001b[1;32mif\u001b[0m \u001b[0mscore\u001b[0m \u001b[1;33m>\u001b[0m \u001b[0mmax_score\u001b[0m\u001b[1;33m:\u001b[0m\u001b[1;33m\u001b[0m\u001b[1;33m\u001b[0m\u001b[0m\n\u001b[0;32m     31\u001b[0m                     \u001b[0mmax_score\u001b[0m \u001b[1;33m=\u001b[0m \u001b[0mscore\u001b[0m\u001b[1;33m\u001b[0m\u001b[1;33m\u001b[0m\u001b[0m\n",
      "\u001b[1;31mKeyError\u001b[0m: (1, 2, 2)"
     ]
    }
   ],
   "source": [
    "model = NB(x_train, y_train)\n",
    "model.train()\n",
    "preds = model.pred(x_val)\n",
    "check_accuracy(y_val, preds)"
   ]
  },
  {
   "cell_type": "markdown",
   "metadata": {},
   "source": [
    "## About the Error\n",
    "\n",
    "理论上需要知道每个特征的所有取值，但是对于实际的数据集，还是存在一些问题，比如你不能保证训练集中包含了所有的取值。\n",
    "\n",
    "解决方法：\n",
    "\n",
    "1.对数据进行预处理，保证训练集中包含所有特征的取值\n",
    "\n",
    "2.先把所有数据集传进去，收集所有特征，再使用训练集训练\n",
    "\n",
    "3.对于不存在的组合，直接使用公式 $\\frac{(0 + lambda)}{(0 + lambda \\times S_j)}$"
   ]
  },
  {
   "cell_type": "code",
   "execution_count": 8,
   "metadata": {},
   "outputs": [],
   "source": [
    "# naive bayes with modification\n",
    "class NB_mdf():\n",
    "    def __init__(self, X, Y, la=1):\n",
    "        '''\n",
    "        X, Y: data with all available features\n",
    "        '''\n",
    "        self.X = X # all data\n",
    "        self.Y = Y # all data's label\n",
    "        self.p = {}\n",
    "        self.p_x_y = {}\n",
    "        self.N = len(Y) # number of rows\n",
    "        self.A = X.shape[1] # number of attributes\n",
    "        self.la = la # lambda\n",
    "        # collecting features\n",
    "        self.goals = np.unique(self.Y)\n",
    "        self.features = []\n",
    "        for idx_f in range(X.shape[1]):\n",
    "            self.features.append(np.unique(X[:,idx_f]))\n",
    "\n",
    "    def train(self, x, y):\n",
    "        '''\n",
    "        x:x_train\n",
    "        y:y_train\n",
    "        '''\n",
    "        for goal in self.goals:\n",
    "            self.p[goal] = np.sum((y == goal)) / len(y)\n",
    "            y_ck_mask = y == goal\n",
    "            for idx_f, features in enumerate(self.features):\n",
    "                x_j = x[:,idx_f][y_ck_mask]\n",
    "                s_j = len(features)\n",
    "                for feat in features:\n",
    "                    self.p_x_y[(idx_f, feat, goal)] = (np.sum(x_j == feat) + self.la) / (self.p[goal] * len(y) + s_j*self.la)\n",
    "\n",
    "    def pred(self, x):\n",
    "        preds = []\n",
    "        for item in x:\n",
    "            max_score = 0\n",
    "            max_goal = -1\n",
    "            for goal in self.p:\n",
    "                score = self.p[goal]\n",
    "                for idx_a in range(self.A):\n",
    "                    score = score * self.p_x_y[(idx_a, item[idx_a], goal)]\n",
    "                if score > max_score:\n",
    "                    max_score = score\n",
    "                    max_goal = goal\n",
    "            preds.append(max_goal)\n",
    "        return preds"
   ]
  },
  {
   "cell_type": "code",
   "execution_count": 9,
   "metadata": {
    "tags": []
   },
   "outputs": [
    {
     "output_type": "stream",
     "name": "stdout",
     "text": "Got 33 / 59 correct 55.93%\n"
    }
   ],
   "source": [
    "model = NB_mdf(data_shuffled[:,:-1], data_shuffled[:,-1])\n",
    "# model.train(data_shuffled[:,:-1], data_shuffled[:,-1])\n",
    "model.train(x_train, y_train)\n",
    "preds = model.pred(x_val)\n",
    "check_accuracy(y_val, preds)"
   ]
  },
  {
   "cell_type": "code",
   "execution_count": 10,
   "metadata": {
    "tags": []
   },
   "outputs": [
    {
     "output_type": "stream",
     "name": "stdout",
     "text": "Got 34 / 59 correct 57.63%\n"
    }
   ],
   "source": [
    "preds = model.pred(x_test)\n",
    "check_accuracy(y_test, preds)"
   ]
  },
  {
   "cell_type": "markdown",
   "metadata": {},
   "source": [
    "感觉正确率挺低的所以用sklearn验证一下"
   ]
  },
  {
   "cell_type": "code",
   "execution_count": 11,
   "metadata": {
    "tags": []
   },
   "outputs": [
    {
     "output_type": "stream",
     "name": "stdout",
     "text": "Got 31 / 59 correct 52.54%\nGot 32 / 59 correct 54.24%\n"
    }
   ],
   "source": [
    "from sklearn.naive_bayes import MultinomialNB\n",
    "clf = MultinomialNB()\n",
    "clf.fit(x_train, y_train)\n",
    "clf_preds = clf.predict(x_val)\n",
    "check_accuracy(y_val, clf_preds)\n",
    "clf_preds = clf.predict(x_test)\n",
    "check_accuracy(y_test, clf_preds)"
   ]
  }
 ],
 "metadata": {
  "kernelspec": {
   "display_name": "Python 3",
   "language": "python",
   "name": "python3"
  },
  "language_info": {
   "codemirror_mode": {
    "name": "ipython",
    "version": 3
   },
   "file_extension": ".py",
   "mimetype": "text/x-python",
   "name": "python",
   "nbconvert_exporter": "python",
   "pygments_lexer": "ipython3",
   "version": "3.7.6-final"
  }
 },
 "nbformat": 4,
 "nbformat_minor": 4
}